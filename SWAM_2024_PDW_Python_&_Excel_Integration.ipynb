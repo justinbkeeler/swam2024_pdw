{
  "nbformat": 4,
  "nbformat_minor": 0,
  "metadata": {
    "colab": {
      "provenance": [],
      "toc_visible": true,
      "authorship_tag": "ABX9TyPo639cmRok/K9nfCX3JA58",
      "include_colab_link": true
    },
    "kernelspec": {
      "name": "python3",
      "display_name": "Python 3"
    },
    "language_info": {
      "name": "python"
    }
  },
  "cells": [
    {
      "cell_type": "markdown",
      "metadata": {
        "id": "view-in-github",
        "colab_type": "text"
      },
      "source": [
        "<a href=\"https://colab.research.google.com/github/justinbkeeler/swam2024_pdw/blob/main/SWAM_2024_PDW_Python_%26_Excel_Integration.ipynb\" target=\"_parent\"><img src=\"https://colab.research.google.com/assets/colab-badge.svg\" alt=\"Open In Colab\"/></a>"
      ]
    },
    {
      "cell_type": "markdown",
      "source": [
        "# SWAM 2024 Professional Development Workshop | Python & Excel Integration"
      ],
      "metadata": {
        "id": "l0L6p59AitM1"
      }
    },
    {
      "cell_type": "markdown",
      "source": [
        "## Example 1: Employee Salary Analysis"
      ],
      "metadata": {
        "id": "9I6RxBVUirGZ"
      }
    },
    {
      "cell_type": "markdown",
      "source": [
        "### Applied Management Questions\n",
        "    1) What is the average annual salary per department, and how does it vary with years spent at the company?\n",
        "    2) Can we visualize the distribution of annual salaries across the company to see if there are any patterns or outliers?\n",
        "    3) How does job satisfaction relate to annual salary, and are there differences in this relationship between departments?"
      ],
      "metadata": {
        "id": "GHPX4dKD2YRQ"
      }
    },
    {
      "cell_type": "code",
      "execution_count": null,
      "metadata": {
        "id": "icTk9SNLXlb8"
      },
      "outputs": [],
      "source": [
        "# Load pandas to import data\n",
        "import pandas as pd"
      ]
    },
    {
      "cell_type": "code",
      "source": [
        "df_eg1 = pd.read_csv(\"https://raw.githubusercontent.com/justinbkeeler/Datasets/main/swam2024_pdw_eg1.csv\")\n",
        "df_eg1"
      ],
      "metadata": {
        "colab": {
          "base_uri": "https://localhost:8080/",
          "height": 423
        },
        "id": "j9ehZQRU6MHg",
        "outputId": "63181bf2-519e-4283-a491-43b83b49310e"
      },
      "execution_count": null,
      "outputs": [
        {
          "output_type": "execute_result",
          "data": {
            "text/plain": [
              "   Department  YearsWithCompany  JobSatisfaction  AnnualSalary  \\\n",
              "0     Finance                18                5      70500.15   \n",
              "1   Marketing                 3                3      94213.91   \n",
              "2          HR                34                4     120835.67   \n",
              "3   Marketing                16                2     114415.40   \n",
              "4   Marketing                27                3      96235.07   \n",
              "..        ...               ...              ...           ...   \n",
              "95         HR                39                5      96005.63   \n",
              "96         HR                 0                4      68997.11   \n",
              "97  Marketing                15                1      75209.45   \n",
              "98         HR                38                5      91258.67   \n",
              "99  Marketing                 4                1      74191.48   \n",
              "\n",
              "   PromotionLast5Years  PerformanceRating RemoteWork  \n",
              "0                   No                  4  Part-time  \n",
              "1                  Yes                  3        NaN  \n",
              "2                   No                  3  Part-time  \n",
              "3                   No                  1  Part-time  \n",
              "4                   No                  4        NaN  \n",
              "..                 ...                ...        ...  \n",
              "95                  No                  4        NaN  \n",
              "96                  No                  4        NaN  \n",
              "97                  No                  2  Full-time  \n",
              "98                  No                  4        NaN  \n",
              "99                  No                  5        NaN  \n",
              "\n",
              "[100 rows x 7 columns]"
            ],
            "text/html": [
              "\n",
              "  <div id=\"df-aa443463-4353-4842-837f-5cf3611edd6c\" class=\"colab-df-container\">\n",
              "    <div>\n",
              "<style scoped>\n",
              "    .dataframe tbody tr th:only-of-type {\n",
              "        vertical-align: middle;\n",
              "    }\n",
              "\n",
              "    .dataframe tbody tr th {\n",
              "        vertical-align: top;\n",
              "    }\n",
              "\n",
              "    .dataframe thead th {\n",
              "        text-align: right;\n",
              "    }\n",
              "</style>\n",
              "<table border=\"1\" class=\"dataframe\">\n",
              "  <thead>\n",
              "    <tr style=\"text-align: right;\">\n",
              "      <th></th>\n",
              "      <th>Department</th>\n",
              "      <th>YearsWithCompany</th>\n",
              "      <th>JobSatisfaction</th>\n",
              "      <th>AnnualSalary</th>\n",
              "      <th>PromotionLast5Years</th>\n",
              "      <th>PerformanceRating</th>\n",
              "      <th>RemoteWork</th>\n",
              "    </tr>\n",
              "  </thead>\n",
              "  <tbody>\n",
              "    <tr>\n",
              "      <th>0</th>\n",
              "      <td>Finance</td>\n",
              "      <td>18</td>\n",
              "      <td>5</td>\n",
              "      <td>70500.15</td>\n",
              "      <td>No</td>\n",
              "      <td>4</td>\n",
              "      <td>Part-time</td>\n",
              "    </tr>\n",
              "    <tr>\n",
              "      <th>1</th>\n",
              "      <td>Marketing</td>\n",
              "      <td>3</td>\n",
              "      <td>3</td>\n",
              "      <td>94213.91</td>\n",
              "      <td>Yes</td>\n",
              "      <td>3</td>\n",
              "      <td>NaN</td>\n",
              "    </tr>\n",
              "    <tr>\n",
              "      <th>2</th>\n",
              "      <td>HR</td>\n",
              "      <td>34</td>\n",
              "      <td>4</td>\n",
              "      <td>120835.67</td>\n",
              "      <td>No</td>\n",
              "      <td>3</td>\n",
              "      <td>Part-time</td>\n",
              "    </tr>\n",
              "    <tr>\n",
              "      <th>3</th>\n",
              "      <td>Marketing</td>\n",
              "      <td>16</td>\n",
              "      <td>2</td>\n",
              "      <td>114415.40</td>\n",
              "      <td>No</td>\n",
              "      <td>1</td>\n",
              "      <td>Part-time</td>\n",
              "    </tr>\n",
              "    <tr>\n",
              "      <th>4</th>\n",
              "      <td>Marketing</td>\n",
              "      <td>27</td>\n",
              "      <td>3</td>\n",
              "      <td>96235.07</td>\n",
              "      <td>No</td>\n",
              "      <td>4</td>\n",
              "      <td>NaN</td>\n",
              "    </tr>\n",
              "    <tr>\n",
              "      <th>...</th>\n",
              "      <td>...</td>\n",
              "      <td>...</td>\n",
              "      <td>...</td>\n",
              "      <td>...</td>\n",
              "      <td>...</td>\n",
              "      <td>...</td>\n",
              "      <td>...</td>\n",
              "    </tr>\n",
              "    <tr>\n",
              "      <th>95</th>\n",
              "      <td>HR</td>\n",
              "      <td>39</td>\n",
              "      <td>5</td>\n",
              "      <td>96005.63</td>\n",
              "      <td>No</td>\n",
              "      <td>4</td>\n",
              "      <td>NaN</td>\n",
              "    </tr>\n",
              "    <tr>\n",
              "      <th>96</th>\n",
              "      <td>HR</td>\n",
              "      <td>0</td>\n",
              "      <td>4</td>\n",
              "      <td>68997.11</td>\n",
              "      <td>No</td>\n",
              "      <td>4</td>\n",
              "      <td>NaN</td>\n",
              "    </tr>\n",
              "    <tr>\n",
              "      <th>97</th>\n",
              "      <td>Marketing</td>\n",
              "      <td>15</td>\n",
              "      <td>1</td>\n",
              "      <td>75209.45</td>\n",
              "      <td>No</td>\n",
              "      <td>2</td>\n",
              "      <td>Full-time</td>\n",
              "    </tr>\n",
              "    <tr>\n",
              "      <th>98</th>\n",
              "      <td>HR</td>\n",
              "      <td>38</td>\n",
              "      <td>5</td>\n",
              "      <td>91258.67</td>\n",
              "      <td>No</td>\n",
              "      <td>4</td>\n",
              "      <td>NaN</td>\n",
              "    </tr>\n",
              "    <tr>\n",
              "      <th>99</th>\n",
              "      <td>Marketing</td>\n",
              "      <td>4</td>\n",
              "      <td>1</td>\n",
              "      <td>74191.48</td>\n",
              "      <td>No</td>\n",
              "      <td>5</td>\n",
              "      <td>NaN</td>\n",
              "    </tr>\n",
              "  </tbody>\n",
              "</table>\n",
              "<p>100 rows × 7 columns</p>\n",
              "</div>\n",
              "    <div class=\"colab-df-buttons\">\n",
              "\n",
              "  <div class=\"colab-df-container\">\n",
              "    <button class=\"colab-df-convert\" onclick=\"convertToInteractive('df-aa443463-4353-4842-837f-5cf3611edd6c')\"\n",
              "            title=\"Convert this dataframe to an interactive table.\"\n",
              "            style=\"display:none;\">\n",
              "\n",
              "  <svg xmlns=\"http://www.w3.org/2000/svg\" height=\"24px\" viewBox=\"0 -960 960 960\">\n",
              "    <path d=\"M120-120v-720h720v720H120Zm60-500h600v-160H180v160Zm220 220h160v-160H400v160Zm0 220h160v-160H400v160ZM180-400h160v-160H180v160Zm440 0h160v-160H620v160ZM180-180h160v-160H180v160Zm440 0h160v-160H620v160Z\"/>\n",
              "  </svg>\n",
              "    </button>\n",
              "\n",
              "  <style>\n",
              "    .colab-df-container {\n",
              "      display:flex;\n",
              "      gap: 12px;\n",
              "    }\n",
              "\n",
              "    .colab-df-convert {\n",
              "      background-color: #E8F0FE;\n",
              "      border: none;\n",
              "      border-radius: 50%;\n",
              "      cursor: pointer;\n",
              "      display: none;\n",
              "      fill: #1967D2;\n",
              "      height: 32px;\n",
              "      padding: 0 0 0 0;\n",
              "      width: 32px;\n",
              "    }\n",
              "\n",
              "    .colab-df-convert:hover {\n",
              "      background-color: #E2EBFA;\n",
              "      box-shadow: 0px 1px 2px rgba(60, 64, 67, 0.3), 0px 1px 3px 1px rgba(60, 64, 67, 0.15);\n",
              "      fill: #174EA6;\n",
              "    }\n",
              "\n",
              "    .colab-df-buttons div {\n",
              "      margin-bottom: 4px;\n",
              "    }\n",
              "\n",
              "    [theme=dark] .colab-df-convert {\n",
              "      background-color: #3B4455;\n",
              "      fill: #D2E3FC;\n",
              "    }\n",
              "\n",
              "    [theme=dark] .colab-df-convert:hover {\n",
              "      background-color: #434B5C;\n",
              "      box-shadow: 0px 1px 3px 1px rgba(0, 0, 0, 0.15);\n",
              "      filter: drop-shadow(0px 1px 2px rgba(0, 0, 0, 0.3));\n",
              "      fill: #FFFFFF;\n",
              "    }\n",
              "  </style>\n",
              "\n",
              "    <script>\n",
              "      const buttonEl =\n",
              "        document.querySelector('#df-aa443463-4353-4842-837f-5cf3611edd6c button.colab-df-convert');\n",
              "      buttonEl.style.display =\n",
              "        google.colab.kernel.accessAllowed ? 'block' : 'none';\n",
              "\n",
              "      async function convertToInteractive(key) {\n",
              "        const element = document.querySelector('#df-aa443463-4353-4842-837f-5cf3611edd6c');\n",
              "        const dataTable =\n",
              "          await google.colab.kernel.invokeFunction('convertToInteractive',\n",
              "                                                    [key], {});\n",
              "        if (!dataTable) return;\n",
              "\n",
              "        const docLinkHtml = 'Like what you see? Visit the ' +\n",
              "          '<a target=\"_blank\" href=https://colab.research.google.com/notebooks/data_table.ipynb>data table notebook</a>'\n",
              "          + ' to learn more about interactive tables.';\n",
              "        element.innerHTML = '';\n",
              "        dataTable['output_type'] = 'display_data';\n",
              "        await google.colab.output.renderOutput(dataTable, element);\n",
              "        const docLink = document.createElement('div');\n",
              "        docLink.innerHTML = docLinkHtml;\n",
              "        element.appendChild(docLink);\n",
              "      }\n",
              "    </script>\n",
              "  </div>\n",
              "\n",
              "\n",
              "<div id=\"df-04d504a3-f5ee-42c5-917c-1e6c664c6195\">\n",
              "  <button class=\"colab-df-quickchart\" onclick=\"quickchart('df-04d504a3-f5ee-42c5-917c-1e6c664c6195')\"\n",
              "            title=\"Suggest charts\"\n",
              "            style=\"display:none;\">\n",
              "\n",
              "<svg xmlns=\"http://www.w3.org/2000/svg\" height=\"24px\"viewBox=\"0 0 24 24\"\n",
              "     width=\"24px\">\n",
              "    <g>\n",
              "        <path d=\"M19 3H5c-1.1 0-2 .9-2 2v14c0 1.1.9 2 2 2h14c1.1 0 2-.9 2-2V5c0-1.1-.9-2-2-2zM9 17H7v-7h2v7zm4 0h-2V7h2v10zm4 0h-2v-4h2v4z\"/>\n",
              "    </g>\n",
              "</svg>\n",
              "  </button>\n",
              "\n",
              "<style>\n",
              "  .colab-df-quickchart {\n",
              "      --bg-color: #E8F0FE;\n",
              "      --fill-color: #1967D2;\n",
              "      --hover-bg-color: #E2EBFA;\n",
              "      --hover-fill-color: #174EA6;\n",
              "      --disabled-fill-color: #AAA;\n",
              "      --disabled-bg-color: #DDD;\n",
              "  }\n",
              "\n",
              "  [theme=dark] .colab-df-quickchart {\n",
              "      --bg-color: #3B4455;\n",
              "      --fill-color: #D2E3FC;\n",
              "      --hover-bg-color: #434B5C;\n",
              "      --hover-fill-color: #FFFFFF;\n",
              "      --disabled-bg-color: #3B4455;\n",
              "      --disabled-fill-color: #666;\n",
              "  }\n",
              "\n",
              "  .colab-df-quickchart {\n",
              "    background-color: var(--bg-color);\n",
              "    border: none;\n",
              "    border-radius: 50%;\n",
              "    cursor: pointer;\n",
              "    display: none;\n",
              "    fill: var(--fill-color);\n",
              "    height: 32px;\n",
              "    padding: 0;\n",
              "    width: 32px;\n",
              "  }\n",
              "\n",
              "  .colab-df-quickchart:hover {\n",
              "    background-color: var(--hover-bg-color);\n",
              "    box-shadow: 0 1px 2px rgba(60, 64, 67, 0.3), 0 1px 3px 1px rgba(60, 64, 67, 0.15);\n",
              "    fill: var(--button-hover-fill-color);\n",
              "  }\n",
              "\n",
              "  .colab-df-quickchart-complete:disabled,\n",
              "  .colab-df-quickchart-complete:disabled:hover {\n",
              "    background-color: var(--disabled-bg-color);\n",
              "    fill: var(--disabled-fill-color);\n",
              "    box-shadow: none;\n",
              "  }\n",
              "\n",
              "  .colab-df-spinner {\n",
              "    border: 2px solid var(--fill-color);\n",
              "    border-color: transparent;\n",
              "    border-bottom-color: var(--fill-color);\n",
              "    animation:\n",
              "      spin 1s steps(1) infinite;\n",
              "  }\n",
              "\n",
              "  @keyframes spin {\n",
              "    0% {\n",
              "      border-color: transparent;\n",
              "      border-bottom-color: var(--fill-color);\n",
              "      border-left-color: var(--fill-color);\n",
              "    }\n",
              "    20% {\n",
              "      border-color: transparent;\n",
              "      border-left-color: var(--fill-color);\n",
              "      border-top-color: var(--fill-color);\n",
              "    }\n",
              "    30% {\n",
              "      border-color: transparent;\n",
              "      border-left-color: var(--fill-color);\n",
              "      border-top-color: var(--fill-color);\n",
              "      border-right-color: var(--fill-color);\n",
              "    }\n",
              "    40% {\n",
              "      border-color: transparent;\n",
              "      border-right-color: var(--fill-color);\n",
              "      border-top-color: var(--fill-color);\n",
              "    }\n",
              "    60% {\n",
              "      border-color: transparent;\n",
              "      border-right-color: var(--fill-color);\n",
              "    }\n",
              "    80% {\n",
              "      border-color: transparent;\n",
              "      border-right-color: var(--fill-color);\n",
              "      border-bottom-color: var(--fill-color);\n",
              "    }\n",
              "    90% {\n",
              "      border-color: transparent;\n",
              "      border-bottom-color: var(--fill-color);\n",
              "    }\n",
              "  }\n",
              "</style>\n",
              "\n",
              "  <script>\n",
              "    async function quickchart(key) {\n",
              "      const quickchartButtonEl =\n",
              "        document.querySelector('#' + key + ' button');\n",
              "      quickchartButtonEl.disabled = true;  // To prevent multiple clicks.\n",
              "      quickchartButtonEl.classList.add('colab-df-spinner');\n",
              "      try {\n",
              "        const charts = await google.colab.kernel.invokeFunction(\n",
              "            'suggestCharts', [key], {});\n",
              "      } catch (error) {\n",
              "        console.error('Error during call to suggestCharts:', error);\n",
              "      }\n",
              "      quickchartButtonEl.classList.remove('colab-df-spinner');\n",
              "      quickchartButtonEl.classList.add('colab-df-quickchart-complete');\n",
              "    }\n",
              "    (() => {\n",
              "      let quickchartButtonEl =\n",
              "        document.querySelector('#df-04d504a3-f5ee-42c5-917c-1e6c664c6195 button');\n",
              "      quickchartButtonEl.style.display =\n",
              "        google.colab.kernel.accessAllowed ? 'block' : 'none';\n",
              "    })();\n",
              "  </script>\n",
              "</div>\n",
              "\n",
              "  <div id=\"id_8ce15cb1-f5ec-4ee4-85ef-456f26ef52bd\">\n",
              "    <style>\n",
              "      .colab-df-generate {\n",
              "        background-color: #E8F0FE;\n",
              "        border: none;\n",
              "        border-radius: 50%;\n",
              "        cursor: pointer;\n",
              "        display: none;\n",
              "        fill: #1967D2;\n",
              "        height: 32px;\n",
              "        padding: 0 0 0 0;\n",
              "        width: 32px;\n",
              "      }\n",
              "\n",
              "      .colab-df-generate:hover {\n",
              "        background-color: #E2EBFA;\n",
              "        box-shadow: 0px 1px 2px rgba(60, 64, 67, 0.3), 0px 1px 3px 1px rgba(60, 64, 67, 0.15);\n",
              "        fill: #174EA6;\n",
              "      }\n",
              "\n",
              "      [theme=dark] .colab-df-generate {\n",
              "        background-color: #3B4455;\n",
              "        fill: #D2E3FC;\n",
              "      }\n",
              "\n",
              "      [theme=dark] .colab-df-generate:hover {\n",
              "        background-color: #434B5C;\n",
              "        box-shadow: 0px 1px 3px 1px rgba(0, 0, 0, 0.15);\n",
              "        filter: drop-shadow(0px 1px 2px rgba(0, 0, 0, 0.3));\n",
              "        fill: #FFFFFF;\n",
              "      }\n",
              "    </style>\n",
              "    <button class=\"colab-df-generate\" onclick=\"generateWithVariable('df_eg1')\"\n",
              "            title=\"Generate code using this dataframe.\"\n",
              "            style=\"display:none;\">\n",
              "\n",
              "  <svg xmlns=\"http://www.w3.org/2000/svg\" height=\"24px\"viewBox=\"0 0 24 24\"\n",
              "       width=\"24px\">\n",
              "    <path d=\"M7,19H8.4L18.45,9,17,7.55,7,17.6ZM5,21V16.75L18.45,3.32a2,2,0,0,1,2.83,0l1.4,1.43a1.91,1.91,0,0,1,.58,1.4,1.91,1.91,0,0,1-.58,1.4L9.25,21ZM18.45,9,17,7.55Zm-12,3A5.31,5.31,0,0,0,4.9,8.1,5.31,5.31,0,0,0,1,6.5,5.31,5.31,0,0,0,4.9,4.9,5.31,5.31,0,0,0,6.5,1,5.31,5.31,0,0,0,8.1,4.9,5.31,5.31,0,0,0,12,6.5,5.46,5.46,0,0,0,6.5,12Z\"/>\n",
              "  </svg>\n",
              "    </button>\n",
              "    <script>\n",
              "      (() => {\n",
              "      const buttonEl =\n",
              "        document.querySelector('#id_8ce15cb1-f5ec-4ee4-85ef-456f26ef52bd button.colab-df-generate');\n",
              "      buttonEl.style.display =\n",
              "        google.colab.kernel.accessAllowed ? 'block' : 'none';\n",
              "\n",
              "      buttonEl.onclick = () => {\n",
              "        google.colab.notebook.generateWithVariable('df_eg1');\n",
              "      }\n",
              "      })();\n",
              "    </script>\n",
              "  </div>\n",
              "\n",
              "    </div>\n",
              "  </div>\n"
            ],
            "application/vnd.google.colaboratory.intrinsic+json": {
              "type": "dataframe",
              "variable_name": "df_eg1",
              "summary": "{\n  \"name\": \"df_eg1\",\n  \"rows\": 100,\n  \"fields\": [\n    {\n      \"column\": \"Department\",\n      \"properties\": {\n        \"dtype\": \"category\",\n        \"num_unique_values\": 4,\n        \"samples\": [\n          \"Marketing\",\n          \"IT\",\n          \"Finance\"\n        ],\n        \"semantic_type\": \"\",\n        \"description\": \"\"\n      }\n    },\n    {\n      \"column\": \"YearsWithCompany\",\n      \"properties\": {\n        \"dtype\": \"number\",\n        \"std\": 11,\n        \"min\": 0,\n        \"max\": 40,\n        \"num_unique_values\": 38,\n        \"samples\": [\n          13,\n          33,\n          27\n        ],\n        \"semantic_type\": \"\",\n        \"description\": \"\"\n      }\n    },\n    {\n      \"column\": \"JobSatisfaction\",\n      \"properties\": {\n        \"dtype\": \"number\",\n        \"std\": 1,\n        \"min\": 1,\n        \"max\": 5,\n        \"num_unique_values\": 5,\n        \"samples\": [\n          3,\n          1,\n          4\n        ],\n        \"semantic_type\": \"\",\n        \"description\": \"\"\n      }\n    },\n    {\n      \"column\": \"AnnualSalary\",\n      \"properties\": {\n        \"dtype\": \"number\",\n        \"std\": 49084.60485284145,\n        \"min\": 37378.13,\n        \"max\": 199308.31,\n        \"num_unique_values\": 100,\n        \"samples\": [\n          199291.33,\n          72283.11,\n          166358.57\n        ],\n        \"semantic_type\": \"\",\n        \"description\": \"\"\n      }\n    },\n    {\n      \"column\": \"PromotionLast5Years\",\n      \"properties\": {\n        \"dtype\": \"category\",\n        \"num_unique_values\": 2,\n        \"samples\": [\n          \"Yes\",\n          \"No\"\n        ],\n        \"semantic_type\": \"\",\n        \"description\": \"\"\n      }\n    },\n    {\n      \"column\": \"PerformanceRating\",\n      \"properties\": {\n        \"dtype\": \"number\",\n        \"std\": 1,\n        \"min\": 1,\n        \"max\": 5,\n        \"num_unique_values\": 5,\n        \"samples\": [\n          3,\n          2\n        ],\n        \"semantic_type\": \"\",\n        \"description\": \"\"\n      }\n    },\n    {\n      \"column\": \"RemoteWork\",\n      \"properties\": {\n        \"dtype\": \"category\",\n        \"num_unique_values\": 2,\n        \"samples\": [\n          \"Full-time\",\n          \"Part-time\"\n        ],\n        \"semantic_type\": \"\",\n        \"description\": \"\"\n      }\n    }\n  ]\n}"
            }
          },
          "metadata": {},
          "execution_count": 59
        }
      ]
    },
    {
      "cell_type": "markdown",
      "source": [
        "#### Question 1"
      ],
      "metadata": {
        "id": "RAbN3CC08eao"
      }
    },
    {
      "cell_type": "code",
      "source": [
        "# Calculate the average annual salary across all departments\n",
        "overall_average_salary = df_eg1['AnnualSalary'].mean()\n",
        "overall_average_salary"
      ],
      "metadata": {
        "colab": {
          "base_uri": "https://localhost:8080/"
        },
        "id": "X_MDmMT16tqj",
        "outputId": "f63d8632-0912-41b0-b88f-61252f1b7ac6"
      },
      "execution_count": null,
      "outputs": [
        {
          "output_type": "execute_result",
          "data": {
            "text/plain": [
              "117745.3942"
            ]
          },
          "metadata": {},
          "execution_count": 61
        }
      ]
    },
    {
      "cell_type": "code",
      "source": [
        "# Calculate the average annual salary by department\n",
        "average_salary_by_department = df_eg1.groupby('Department')['AnnualSalary'].mean().sort_values()\n",
        "average_salary_by_department"
      ],
      "metadata": {
        "colab": {
          "base_uri": "https://localhost:8080/"
        },
        "id": "g4D5JXux69TH",
        "outputId": "d4798052-752e-4cd3-a8b1-6e29a9083e95"
      },
      "execution_count": null,
      "outputs": [
        {
          "output_type": "execute_result",
          "data": {
            "text/plain": [
              "Department\n",
              "HR           108566.412400\n",
              "IT           114430.715000\n",
              "Finance      118253.345455\n",
              "Marketing    125687.218286\n",
              "Name: AnnualSalary, dtype: float64"
            ]
          },
          "metadata": {},
          "execution_count": 62
        }
      ]
    },
    {
      "cell_type": "code",
      "source": [
        "# Groupby\n",
        "average_salary_by_dept_years = df_eg1.groupby(['Department', 'YearsWithCompany'])['AnnualSalary'].mean().reset_index()\n",
        "average_salary_by_dept_years"
      ],
      "metadata": {
        "colab": {
          "base_uri": "https://localhost:8080/",
          "height": 423
        },
        "id": "Wd6Owk_17LE6",
        "outputId": "c9df6b5c-6832-4ed9-aa51-fe89cff5e433"
      },
      "execution_count": null,
      "outputs": [
        {
          "output_type": "execute_result",
          "data": {
            "text/plain": [
              "   Department  YearsWithCompany  AnnualSalary\n",
              "0     Finance                 0     93302.905\n",
              "1     Finance                 6     70236.480\n",
              "2     Finance                 7    150390.800\n",
              "3     Finance                 8    145205.090\n",
              "4     Finance                12    148219.890\n",
              "..        ...               ...           ...\n",
              "67  Marketing                33     87062.210\n",
              "68  Marketing                34    192952.050\n",
              "69  Marketing                35    184307.930\n",
              "70  Marketing                36     92824.095\n",
              "71  Marketing                39    102435.550\n",
              "\n",
              "[72 rows x 3 columns]"
            ],
            "text/html": [
              "\n",
              "  <div id=\"df-cd8c39da-66fe-4aa3-a285-6589c942191a\" class=\"colab-df-container\">\n",
              "    <div>\n",
              "<style scoped>\n",
              "    .dataframe tbody tr th:only-of-type {\n",
              "        vertical-align: middle;\n",
              "    }\n",
              "\n",
              "    .dataframe tbody tr th {\n",
              "        vertical-align: top;\n",
              "    }\n",
              "\n",
              "    .dataframe thead th {\n",
              "        text-align: right;\n",
              "    }\n",
              "</style>\n",
              "<table border=\"1\" class=\"dataframe\">\n",
              "  <thead>\n",
              "    <tr style=\"text-align: right;\">\n",
              "      <th></th>\n",
              "      <th>Department</th>\n",
              "      <th>YearsWithCompany</th>\n",
              "      <th>AnnualSalary</th>\n",
              "    </tr>\n",
              "  </thead>\n",
              "  <tbody>\n",
              "    <tr>\n",
              "      <th>0</th>\n",
              "      <td>Finance</td>\n",
              "      <td>0</td>\n",
              "      <td>93302.905</td>\n",
              "    </tr>\n",
              "    <tr>\n",
              "      <th>1</th>\n",
              "      <td>Finance</td>\n",
              "      <td>6</td>\n",
              "      <td>70236.480</td>\n",
              "    </tr>\n",
              "    <tr>\n",
              "      <th>2</th>\n",
              "      <td>Finance</td>\n",
              "      <td>7</td>\n",
              "      <td>150390.800</td>\n",
              "    </tr>\n",
              "    <tr>\n",
              "      <th>3</th>\n",
              "      <td>Finance</td>\n",
              "      <td>8</td>\n",
              "      <td>145205.090</td>\n",
              "    </tr>\n",
              "    <tr>\n",
              "      <th>4</th>\n",
              "      <td>Finance</td>\n",
              "      <td>12</td>\n",
              "      <td>148219.890</td>\n",
              "    </tr>\n",
              "    <tr>\n",
              "      <th>...</th>\n",
              "      <td>...</td>\n",
              "      <td>...</td>\n",
              "      <td>...</td>\n",
              "    </tr>\n",
              "    <tr>\n",
              "      <th>67</th>\n",
              "      <td>Marketing</td>\n",
              "      <td>33</td>\n",
              "      <td>87062.210</td>\n",
              "    </tr>\n",
              "    <tr>\n",
              "      <th>68</th>\n",
              "      <td>Marketing</td>\n",
              "      <td>34</td>\n",
              "      <td>192952.050</td>\n",
              "    </tr>\n",
              "    <tr>\n",
              "      <th>69</th>\n",
              "      <td>Marketing</td>\n",
              "      <td>35</td>\n",
              "      <td>184307.930</td>\n",
              "    </tr>\n",
              "    <tr>\n",
              "      <th>70</th>\n",
              "      <td>Marketing</td>\n",
              "      <td>36</td>\n",
              "      <td>92824.095</td>\n",
              "    </tr>\n",
              "    <tr>\n",
              "      <th>71</th>\n",
              "      <td>Marketing</td>\n",
              "      <td>39</td>\n",
              "      <td>102435.550</td>\n",
              "    </tr>\n",
              "  </tbody>\n",
              "</table>\n",
              "<p>72 rows × 3 columns</p>\n",
              "</div>\n",
              "    <div class=\"colab-df-buttons\">\n",
              "\n",
              "  <div class=\"colab-df-container\">\n",
              "    <button class=\"colab-df-convert\" onclick=\"convertToInteractive('df-cd8c39da-66fe-4aa3-a285-6589c942191a')\"\n",
              "            title=\"Convert this dataframe to an interactive table.\"\n",
              "            style=\"display:none;\">\n",
              "\n",
              "  <svg xmlns=\"http://www.w3.org/2000/svg\" height=\"24px\" viewBox=\"0 -960 960 960\">\n",
              "    <path d=\"M120-120v-720h720v720H120Zm60-500h600v-160H180v160Zm220 220h160v-160H400v160Zm0 220h160v-160H400v160ZM180-400h160v-160H180v160Zm440 0h160v-160H620v160ZM180-180h160v-160H180v160Zm440 0h160v-160H620v160Z\"/>\n",
              "  </svg>\n",
              "    </button>\n",
              "\n",
              "  <style>\n",
              "    .colab-df-container {\n",
              "      display:flex;\n",
              "      gap: 12px;\n",
              "    }\n",
              "\n",
              "    .colab-df-convert {\n",
              "      background-color: #E8F0FE;\n",
              "      border: none;\n",
              "      border-radius: 50%;\n",
              "      cursor: pointer;\n",
              "      display: none;\n",
              "      fill: #1967D2;\n",
              "      height: 32px;\n",
              "      padding: 0 0 0 0;\n",
              "      width: 32px;\n",
              "    }\n",
              "\n",
              "    .colab-df-convert:hover {\n",
              "      background-color: #E2EBFA;\n",
              "      box-shadow: 0px 1px 2px rgba(60, 64, 67, 0.3), 0px 1px 3px 1px rgba(60, 64, 67, 0.15);\n",
              "      fill: #174EA6;\n",
              "    }\n",
              "\n",
              "    .colab-df-buttons div {\n",
              "      margin-bottom: 4px;\n",
              "    }\n",
              "\n",
              "    [theme=dark] .colab-df-convert {\n",
              "      background-color: #3B4455;\n",
              "      fill: #D2E3FC;\n",
              "    }\n",
              "\n",
              "    [theme=dark] .colab-df-convert:hover {\n",
              "      background-color: #434B5C;\n",
              "      box-shadow: 0px 1px 3px 1px rgba(0, 0, 0, 0.15);\n",
              "      filter: drop-shadow(0px 1px 2px rgba(0, 0, 0, 0.3));\n",
              "      fill: #FFFFFF;\n",
              "    }\n",
              "  </style>\n",
              "\n",
              "    <script>\n",
              "      const buttonEl =\n",
              "        document.querySelector('#df-cd8c39da-66fe-4aa3-a285-6589c942191a button.colab-df-convert');\n",
              "      buttonEl.style.display =\n",
              "        google.colab.kernel.accessAllowed ? 'block' : 'none';\n",
              "\n",
              "      async function convertToInteractive(key) {\n",
              "        const element = document.querySelector('#df-cd8c39da-66fe-4aa3-a285-6589c942191a');\n",
              "        const dataTable =\n",
              "          await google.colab.kernel.invokeFunction('convertToInteractive',\n",
              "                                                    [key], {});\n",
              "        if (!dataTable) return;\n",
              "\n",
              "        const docLinkHtml = 'Like what you see? Visit the ' +\n",
              "          '<a target=\"_blank\" href=https://colab.research.google.com/notebooks/data_table.ipynb>data table notebook</a>'\n",
              "          + ' to learn more about interactive tables.';\n",
              "        element.innerHTML = '';\n",
              "        dataTable['output_type'] = 'display_data';\n",
              "        await google.colab.output.renderOutput(dataTable, element);\n",
              "        const docLink = document.createElement('div');\n",
              "        docLink.innerHTML = docLinkHtml;\n",
              "        element.appendChild(docLink);\n",
              "      }\n",
              "    </script>\n",
              "  </div>\n",
              "\n",
              "\n",
              "<div id=\"df-fd25a4b5-88f7-4d90-838b-18b8693e9f22\">\n",
              "  <button class=\"colab-df-quickchart\" onclick=\"quickchart('df-fd25a4b5-88f7-4d90-838b-18b8693e9f22')\"\n",
              "            title=\"Suggest charts\"\n",
              "            style=\"display:none;\">\n",
              "\n",
              "<svg xmlns=\"http://www.w3.org/2000/svg\" height=\"24px\"viewBox=\"0 0 24 24\"\n",
              "     width=\"24px\">\n",
              "    <g>\n",
              "        <path d=\"M19 3H5c-1.1 0-2 .9-2 2v14c0 1.1.9 2 2 2h14c1.1 0 2-.9 2-2V5c0-1.1-.9-2-2-2zM9 17H7v-7h2v7zm4 0h-2V7h2v10zm4 0h-2v-4h2v4z\"/>\n",
              "    </g>\n",
              "</svg>\n",
              "  </button>\n",
              "\n",
              "<style>\n",
              "  .colab-df-quickchart {\n",
              "      --bg-color: #E8F0FE;\n",
              "      --fill-color: #1967D2;\n",
              "      --hover-bg-color: #E2EBFA;\n",
              "      --hover-fill-color: #174EA6;\n",
              "      --disabled-fill-color: #AAA;\n",
              "      --disabled-bg-color: #DDD;\n",
              "  }\n",
              "\n",
              "  [theme=dark] .colab-df-quickchart {\n",
              "      --bg-color: #3B4455;\n",
              "      --fill-color: #D2E3FC;\n",
              "      --hover-bg-color: #434B5C;\n",
              "      --hover-fill-color: #FFFFFF;\n",
              "      --disabled-bg-color: #3B4455;\n",
              "      --disabled-fill-color: #666;\n",
              "  }\n",
              "\n",
              "  .colab-df-quickchart {\n",
              "    background-color: var(--bg-color);\n",
              "    border: none;\n",
              "    border-radius: 50%;\n",
              "    cursor: pointer;\n",
              "    display: none;\n",
              "    fill: var(--fill-color);\n",
              "    height: 32px;\n",
              "    padding: 0;\n",
              "    width: 32px;\n",
              "  }\n",
              "\n",
              "  .colab-df-quickchart:hover {\n",
              "    background-color: var(--hover-bg-color);\n",
              "    box-shadow: 0 1px 2px rgba(60, 64, 67, 0.3), 0 1px 3px 1px rgba(60, 64, 67, 0.15);\n",
              "    fill: var(--button-hover-fill-color);\n",
              "  }\n",
              "\n",
              "  .colab-df-quickchart-complete:disabled,\n",
              "  .colab-df-quickchart-complete:disabled:hover {\n",
              "    background-color: var(--disabled-bg-color);\n",
              "    fill: var(--disabled-fill-color);\n",
              "    box-shadow: none;\n",
              "  }\n",
              "\n",
              "  .colab-df-spinner {\n",
              "    border: 2px solid var(--fill-color);\n",
              "    border-color: transparent;\n",
              "    border-bottom-color: var(--fill-color);\n",
              "    animation:\n",
              "      spin 1s steps(1) infinite;\n",
              "  }\n",
              "\n",
              "  @keyframes spin {\n",
              "    0% {\n",
              "      border-color: transparent;\n",
              "      border-bottom-color: var(--fill-color);\n",
              "      border-left-color: var(--fill-color);\n",
              "    }\n",
              "    20% {\n",
              "      border-color: transparent;\n",
              "      border-left-color: var(--fill-color);\n",
              "      border-top-color: var(--fill-color);\n",
              "    }\n",
              "    30% {\n",
              "      border-color: transparent;\n",
              "      border-left-color: var(--fill-color);\n",
              "      border-top-color: var(--fill-color);\n",
              "      border-right-color: var(--fill-color);\n",
              "    }\n",
              "    40% {\n",
              "      border-color: transparent;\n",
              "      border-right-color: var(--fill-color);\n",
              "      border-top-color: var(--fill-color);\n",
              "    }\n",
              "    60% {\n",
              "      border-color: transparent;\n",
              "      border-right-color: var(--fill-color);\n",
              "    }\n",
              "    80% {\n",
              "      border-color: transparent;\n",
              "      border-right-color: var(--fill-color);\n",
              "      border-bottom-color: var(--fill-color);\n",
              "    }\n",
              "    90% {\n",
              "      border-color: transparent;\n",
              "      border-bottom-color: var(--fill-color);\n",
              "    }\n",
              "  }\n",
              "</style>\n",
              "\n",
              "  <script>\n",
              "    async function quickchart(key) {\n",
              "      const quickchartButtonEl =\n",
              "        document.querySelector('#' + key + ' button');\n",
              "      quickchartButtonEl.disabled = true;  // To prevent multiple clicks.\n",
              "      quickchartButtonEl.classList.add('colab-df-spinner');\n",
              "      try {\n",
              "        const charts = await google.colab.kernel.invokeFunction(\n",
              "            'suggestCharts', [key], {});\n",
              "      } catch (error) {\n",
              "        console.error('Error during call to suggestCharts:', error);\n",
              "      }\n",
              "      quickchartButtonEl.classList.remove('colab-df-spinner');\n",
              "      quickchartButtonEl.classList.add('colab-df-quickchart-complete');\n",
              "    }\n",
              "    (() => {\n",
              "      let quickchartButtonEl =\n",
              "        document.querySelector('#df-fd25a4b5-88f7-4d90-838b-18b8693e9f22 button');\n",
              "      quickchartButtonEl.style.display =\n",
              "        google.colab.kernel.accessAllowed ? 'block' : 'none';\n",
              "    })();\n",
              "  </script>\n",
              "</div>\n",
              "\n",
              "  <div id=\"id_ea1d66fb-61d9-4694-a40e-dce1246f13f0\">\n",
              "    <style>\n",
              "      .colab-df-generate {\n",
              "        background-color: #E8F0FE;\n",
              "        border: none;\n",
              "        border-radius: 50%;\n",
              "        cursor: pointer;\n",
              "        display: none;\n",
              "        fill: #1967D2;\n",
              "        height: 32px;\n",
              "        padding: 0 0 0 0;\n",
              "        width: 32px;\n",
              "      }\n",
              "\n",
              "      .colab-df-generate:hover {\n",
              "        background-color: #E2EBFA;\n",
              "        box-shadow: 0px 1px 2px rgba(60, 64, 67, 0.3), 0px 1px 3px 1px rgba(60, 64, 67, 0.15);\n",
              "        fill: #174EA6;\n",
              "      }\n",
              "\n",
              "      [theme=dark] .colab-df-generate {\n",
              "        background-color: #3B4455;\n",
              "        fill: #D2E3FC;\n",
              "      }\n",
              "\n",
              "      [theme=dark] .colab-df-generate:hover {\n",
              "        background-color: #434B5C;\n",
              "        box-shadow: 0px 1px 3px 1px rgba(0, 0, 0, 0.15);\n",
              "        filter: drop-shadow(0px 1px 2px rgba(0, 0, 0, 0.3));\n",
              "        fill: #FFFFFF;\n",
              "      }\n",
              "    </style>\n",
              "    <button class=\"colab-df-generate\" onclick=\"generateWithVariable('average_salary_by_dept_years')\"\n",
              "            title=\"Generate code using this dataframe.\"\n",
              "            style=\"display:none;\">\n",
              "\n",
              "  <svg xmlns=\"http://www.w3.org/2000/svg\" height=\"24px\"viewBox=\"0 0 24 24\"\n",
              "       width=\"24px\">\n",
              "    <path d=\"M7,19H8.4L18.45,9,17,7.55,7,17.6ZM5,21V16.75L18.45,3.32a2,2,0,0,1,2.83,0l1.4,1.43a1.91,1.91,0,0,1,.58,1.4,1.91,1.91,0,0,1-.58,1.4L9.25,21ZM18.45,9,17,7.55Zm-12,3A5.31,5.31,0,0,0,4.9,8.1,5.31,5.31,0,0,0,1,6.5,5.31,5.31,0,0,0,4.9,4.9,5.31,5.31,0,0,0,6.5,1,5.31,5.31,0,0,0,8.1,4.9,5.31,5.31,0,0,0,12,6.5,5.46,5.46,0,0,0,6.5,12Z\"/>\n",
              "  </svg>\n",
              "    </button>\n",
              "    <script>\n",
              "      (() => {\n",
              "      const buttonEl =\n",
              "        document.querySelector('#id_ea1d66fb-61d9-4694-a40e-dce1246f13f0 button.colab-df-generate');\n",
              "      buttonEl.style.display =\n",
              "        google.colab.kernel.accessAllowed ? 'block' : 'none';\n",
              "\n",
              "      buttonEl.onclick = () => {\n",
              "        google.colab.notebook.generateWithVariable('average_salary_by_dept_years');\n",
              "      }\n",
              "      })();\n",
              "    </script>\n",
              "  </div>\n",
              "\n",
              "    </div>\n",
              "  </div>\n"
            ],
            "application/vnd.google.colaboratory.intrinsic+json": {
              "type": "dataframe",
              "variable_name": "average_salary_by_dept_years",
              "summary": "{\n  \"name\": \"average_salary_by_dept_years\",\n  \"rows\": 72,\n  \"fields\": [\n    {\n      \"column\": \"Department\",\n      \"properties\": {\n        \"dtype\": \"category\",\n        \"num_unique_values\": 4,\n        \"samples\": [\n          \"HR\",\n          \"Marketing\",\n          \"Finance\"\n        ],\n        \"semantic_type\": \"\",\n        \"description\": \"\"\n      }\n    },\n    {\n      \"column\": \"YearsWithCompany\",\n      \"properties\": {\n        \"dtype\": \"number\",\n        \"std\": 11,\n        \"min\": 0,\n        \"max\": 40,\n        \"num_unique_values\": 38,\n        \"samples\": [\n          3,\n          30,\n          12\n        ],\n        \"semantic_type\": \"\",\n        \"description\": \"\"\n      }\n    },\n    {\n      \"column\": \"AnnualSalary\",\n      \"properties\": {\n        \"dtype\": \"number\",\n        \"std\": 47828.255892476205,\n        \"min\": 37378.13,\n        \"max\": 199308.31,\n        \"num_unique_values\": 72,\n        \"samples\": [\n          148219.89,\n          177367.68,\n          119822.92\n        ],\n        \"semantic_type\": \"\",\n        \"description\": \"\"\n      }\n    }\n  ]\n}"
            }
          },
          "metadata": {},
          "execution_count": 63
        }
      ]
    },
    {
      "cell_type": "code",
      "source": [
        "# Pivot Table 1\n",
        "average_salary_by_dept_years.pivot_table(values='AnnualSalary',index='YearsWithCompany',columns='Department',fill_value=0,margins = True, margins_name = \"Total\")"
      ],
      "metadata": {
        "colab": {
          "base_uri": "https://localhost:8080/",
          "height": 1000
        },
        "id": "AvRso9wI7WI3",
        "outputId": "1eae615d-a2f8-4300-f8ac-dbbc55e709ad"
      },
      "execution_count": null,
      "outputs": [
        {
          "output_type": "execute_result",
          "data": {
            "text/plain": [
              "Department              Finance             HR             IT      Marketing  \\\n",
              "YearsWithCompany                                                               \n",
              "0                  93302.905000   58572.820000       0.000000       0.000000   \n",
              "1                      0.000000       0.000000  194670.830000  135584.105000   \n",
              "2                      0.000000       0.000000       0.000000  193237.635000   \n",
              "3                      0.000000       0.000000       0.000000  145228.510000   \n",
              "4                      0.000000       0.000000       0.000000   89184.285000   \n",
              "5                      0.000000   39092.500000       0.000000   97448.480000   \n",
              "6                  70236.480000       0.000000       0.000000       0.000000   \n",
              "7                 150390.800000  119822.920000       0.000000       0.000000   \n",
              "8                 145205.090000       0.000000       0.000000       0.000000   \n",
              "11                     0.000000   39836.860000       0.000000  149864.340000   \n",
              "12                148219.890000  179661.190000       0.000000       0.000000   \n",
              "13                     0.000000       0.000000   94257.890000       0.000000   \n",
              "14                     0.000000   86142.930000       0.000000   98037.890000   \n",
              "15                 92445.860000       0.000000       0.000000   75209.450000   \n",
              "16                119699.640000       0.000000       0.000000  114415.400000   \n",
              "17                     0.000000       0.000000       0.000000  162820.330000   \n",
              "18                 64378.385000   80063.970000       0.000000       0.000000   \n",
              "19                130621.090000       0.000000       0.000000       0.000000   \n",
              "20                     0.000000   45589.710000       0.000000       0.000000   \n",
              "21                     0.000000  160423.130000       0.000000  141699.453333   \n",
              "22                155965.560000   72283.110000  154861.380000  149991.350000   \n",
              "23                     0.000000  184694.850000       0.000000   39498.100000   \n",
              "24                     0.000000       0.000000   89055.450000  154919.290000   \n",
              "25                132871.355000       0.000000  155307.120000  177367.680000   \n",
              "26                     0.000000  146965.100000       0.000000       0.000000   \n",
              "27                     0.000000       0.000000  199291.330000  100045.940000   \n",
              "28                 46997.430000  145050.880000       0.000000   54922.820000   \n",
              "29                 42823.870000   80597.980000   37378.130000       0.000000   \n",
              "30                     0.000000       0.000000       0.000000  150143.255000   \n",
              "31                     0.000000  138287.136667   71851.135000       0.000000   \n",
              "32                     0.000000       0.000000   51471.203333   67837.990000   \n",
              "33                     0.000000   73125.970000       0.000000   87062.210000   \n",
              "34                187189.370000   95242.220000  113814.360000  192952.050000   \n",
              "35                     0.000000       0.000000       0.000000  184307.930000   \n",
              "36                     0.000000       0.000000  111211.530000   92824.095000   \n",
              "38                     0.000000  128808.620000  181622.470000       0.000000   \n",
              "39                199308.310000   96005.630000  186249.670000  102435.550000   \n",
              "40                174014.330000       0.000000       0.000000       0.000000   \n",
              "Total             122104.397812  103698.290877  126234.038333  123209.922431   \n",
              "\n",
              "Department                Total  \n",
              "YearsWithCompany                 \n",
              "0                  75937.862500  \n",
              "1                 165127.467500  \n",
              "2                 193237.635000  \n",
              "3                 145228.510000  \n",
              "4                  89184.285000  \n",
              "5                  68270.490000  \n",
              "6                  70236.480000  \n",
              "7                 135106.860000  \n",
              "8                 145205.090000  \n",
              "11                 94850.600000  \n",
              "12                163940.540000  \n",
              "13                 94257.890000  \n",
              "14                 92090.410000  \n",
              "15                 83827.655000  \n",
              "16                117057.520000  \n",
              "17                162820.330000  \n",
              "18                 72221.177500  \n",
              "19                130621.090000  \n",
              "20                 45589.710000  \n",
              "21                151061.291667  \n",
              "22                133275.350000  \n",
              "23                112096.475000  \n",
              "24                121987.370000  \n",
              "25                155182.051667  \n",
              "26                146965.100000  \n",
              "27                149668.635000  \n",
              "28                 82323.710000  \n",
              "29                 53599.993333  \n",
              "30                150143.255000  \n",
              "31                105069.135833  \n",
              "32                 59654.596667  \n",
              "33                 80094.090000  \n",
              "34                147299.500000  \n",
              "35                184307.930000  \n",
              "36                102017.812500  \n",
              "38                155215.545000  \n",
              "39                145999.790000  \n",
              "40                174014.330000  \n",
              "Total             118361.368449  "
            ],
            "text/html": [
              "\n",
              "  <div id=\"df-ad45a18e-3efc-4d6c-88e9-0a403d0ad2df\" class=\"colab-df-container\">\n",
              "    <div>\n",
              "<style scoped>\n",
              "    .dataframe tbody tr th:only-of-type {\n",
              "        vertical-align: middle;\n",
              "    }\n",
              "\n",
              "    .dataframe tbody tr th {\n",
              "        vertical-align: top;\n",
              "    }\n",
              "\n",
              "    .dataframe thead th {\n",
              "        text-align: right;\n",
              "    }\n",
              "</style>\n",
              "<table border=\"1\" class=\"dataframe\">\n",
              "  <thead>\n",
              "    <tr style=\"text-align: right;\">\n",
              "      <th>Department</th>\n",
              "      <th>Finance</th>\n",
              "      <th>HR</th>\n",
              "      <th>IT</th>\n",
              "      <th>Marketing</th>\n",
              "      <th>Total</th>\n",
              "    </tr>\n",
              "    <tr>\n",
              "      <th>YearsWithCompany</th>\n",
              "      <th></th>\n",
              "      <th></th>\n",
              "      <th></th>\n",
              "      <th></th>\n",
              "      <th></th>\n",
              "    </tr>\n",
              "  </thead>\n",
              "  <tbody>\n",
              "    <tr>\n",
              "      <th>0</th>\n",
              "      <td>93302.905000</td>\n",
              "      <td>58572.820000</td>\n",
              "      <td>0.000000</td>\n",
              "      <td>0.000000</td>\n",
              "      <td>75937.862500</td>\n",
              "    </tr>\n",
              "    <tr>\n",
              "      <th>1</th>\n",
              "      <td>0.000000</td>\n",
              "      <td>0.000000</td>\n",
              "      <td>194670.830000</td>\n",
              "      <td>135584.105000</td>\n",
              "      <td>165127.467500</td>\n",
              "    </tr>\n",
              "    <tr>\n",
              "      <th>2</th>\n",
              "      <td>0.000000</td>\n",
              "      <td>0.000000</td>\n",
              "      <td>0.000000</td>\n",
              "      <td>193237.635000</td>\n",
              "      <td>193237.635000</td>\n",
              "    </tr>\n",
              "    <tr>\n",
              "      <th>3</th>\n",
              "      <td>0.000000</td>\n",
              "      <td>0.000000</td>\n",
              "      <td>0.000000</td>\n",
              "      <td>145228.510000</td>\n",
              "      <td>145228.510000</td>\n",
              "    </tr>\n",
              "    <tr>\n",
              "      <th>4</th>\n",
              "      <td>0.000000</td>\n",
              "      <td>0.000000</td>\n",
              "      <td>0.000000</td>\n",
              "      <td>89184.285000</td>\n",
              "      <td>89184.285000</td>\n",
              "    </tr>\n",
              "    <tr>\n",
              "      <th>5</th>\n",
              "      <td>0.000000</td>\n",
              "      <td>39092.500000</td>\n",
              "      <td>0.000000</td>\n",
              "      <td>97448.480000</td>\n",
              "      <td>68270.490000</td>\n",
              "    </tr>\n",
              "    <tr>\n",
              "      <th>6</th>\n",
              "      <td>70236.480000</td>\n",
              "      <td>0.000000</td>\n",
              "      <td>0.000000</td>\n",
              "      <td>0.000000</td>\n",
              "      <td>70236.480000</td>\n",
              "    </tr>\n",
              "    <tr>\n",
              "      <th>7</th>\n",
              "      <td>150390.800000</td>\n",
              "      <td>119822.920000</td>\n",
              "      <td>0.000000</td>\n",
              "      <td>0.000000</td>\n",
              "      <td>135106.860000</td>\n",
              "    </tr>\n",
              "    <tr>\n",
              "      <th>8</th>\n",
              "      <td>145205.090000</td>\n",
              "      <td>0.000000</td>\n",
              "      <td>0.000000</td>\n",
              "      <td>0.000000</td>\n",
              "      <td>145205.090000</td>\n",
              "    </tr>\n",
              "    <tr>\n",
              "      <th>11</th>\n",
              "      <td>0.000000</td>\n",
              "      <td>39836.860000</td>\n",
              "      <td>0.000000</td>\n",
              "      <td>149864.340000</td>\n",
              "      <td>94850.600000</td>\n",
              "    </tr>\n",
              "    <tr>\n",
              "      <th>12</th>\n",
              "      <td>148219.890000</td>\n",
              "      <td>179661.190000</td>\n",
              "      <td>0.000000</td>\n",
              "      <td>0.000000</td>\n",
              "      <td>163940.540000</td>\n",
              "    </tr>\n",
              "    <tr>\n",
              "      <th>13</th>\n",
              "      <td>0.000000</td>\n",
              "      <td>0.000000</td>\n",
              "      <td>94257.890000</td>\n",
              "      <td>0.000000</td>\n",
              "      <td>94257.890000</td>\n",
              "    </tr>\n",
              "    <tr>\n",
              "      <th>14</th>\n",
              "      <td>0.000000</td>\n",
              "      <td>86142.930000</td>\n",
              "      <td>0.000000</td>\n",
              "      <td>98037.890000</td>\n",
              "      <td>92090.410000</td>\n",
              "    </tr>\n",
              "    <tr>\n",
              "      <th>15</th>\n",
              "      <td>92445.860000</td>\n",
              "      <td>0.000000</td>\n",
              "      <td>0.000000</td>\n",
              "      <td>75209.450000</td>\n",
              "      <td>83827.655000</td>\n",
              "    </tr>\n",
              "    <tr>\n",
              "      <th>16</th>\n",
              "      <td>119699.640000</td>\n",
              "      <td>0.000000</td>\n",
              "      <td>0.000000</td>\n",
              "      <td>114415.400000</td>\n",
              "      <td>117057.520000</td>\n",
              "    </tr>\n",
              "    <tr>\n",
              "      <th>17</th>\n",
              "      <td>0.000000</td>\n",
              "      <td>0.000000</td>\n",
              "      <td>0.000000</td>\n",
              "      <td>162820.330000</td>\n",
              "      <td>162820.330000</td>\n",
              "    </tr>\n",
              "    <tr>\n",
              "      <th>18</th>\n",
              "      <td>64378.385000</td>\n",
              "      <td>80063.970000</td>\n",
              "      <td>0.000000</td>\n",
              "      <td>0.000000</td>\n",
              "      <td>72221.177500</td>\n",
              "    </tr>\n",
              "    <tr>\n",
              "      <th>19</th>\n",
              "      <td>130621.090000</td>\n",
              "      <td>0.000000</td>\n",
              "      <td>0.000000</td>\n",
              "      <td>0.000000</td>\n",
              "      <td>130621.090000</td>\n",
              "    </tr>\n",
              "    <tr>\n",
              "      <th>20</th>\n",
              "      <td>0.000000</td>\n",
              "      <td>45589.710000</td>\n",
              "      <td>0.000000</td>\n",
              "      <td>0.000000</td>\n",
              "      <td>45589.710000</td>\n",
              "    </tr>\n",
              "    <tr>\n",
              "      <th>21</th>\n",
              "      <td>0.000000</td>\n",
              "      <td>160423.130000</td>\n",
              "      <td>0.000000</td>\n",
              "      <td>141699.453333</td>\n",
              "      <td>151061.291667</td>\n",
              "    </tr>\n",
              "    <tr>\n",
              "      <th>22</th>\n",
              "      <td>155965.560000</td>\n",
              "      <td>72283.110000</td>\n",
              "      <td>154861.380000</td>\n",
              "      <td>149991.350000</td>\n",
              "      <td>133275.350000</td>\n",
              "    </tr>\n",
              "    <tr>\n",
              "      <th>23</th>\n",
              "      <td>0.000000</td>\n",
              "      <td>184694.850000</td>\n",
              "      <td>0.000000</td>\n",
              "      <td>39498.100000</td>\n",
              "      <td>112096.475000</td>\n",
              "    </tr>\n",
              "    <tr>\n",
              "      <th>24</th>\n",
              "      <td>0.000000</td>\n",
              "      <td>0.000000</td>\n",
              "      <td>89055.450000</td>\n",
              "      <td>154919.290000</td>\n",
              "      <td>121987.370000</td>\n",
              "    </tr>\n",
              "    <tr>\n",
              "      <th>25</th>\n",
              "      <td>132871.355000</td>\n",
              "      <td>0.000000</td>\n",
              "      <td>155307.120000</td>\n",
              "      <td>177367.680000</td>\n",
              "      <td>155182.051667</td>\n",
              "    </tr>\n",
              "    <tr>\n",
              "      <th>26</th>\n",
              "      <td>0.000000</td>\n",
              "      <td>146965.100000</td>\n",
              "      <td>0.000000</td>\n",
              "      <td>0.000000</td>\n",
              "      <td>146965.100000</td>\n",
              "    </tr>\n",
              "    <tr>\n",
              "      <th>27</th>\n",
              "      <td>0.000000</td>\n",
              "      <td>0.000000</td>\n",
              "      <td>199291.330000</td>\n",
              "      <td>100045.940000</td>\n",
              "      <td>149668.635000</td>\n",
              "    </tr>\n",
              "    <tr>\n",
              "      <th>28</th>\n",
              "      <td>46997.430000</td>\n",
              "      <td>145050.880000</td>\n",
              "      <td>0.000000</td>\n",
              "      <td>54922.820000</td>\n",
              "      <td>82323.710000</td>\n",
              "    </tr>\n",
              "    <tr>\n",
              "      <th>29</th>\n",
              "      <td>42823.870000</td>\n",
              "      <td>80597.980000</td>\n",
              "      <td>37378.130000</td>\n",
              "      <td>0.000000</td>\n",
              "      <td>53599.993333</td>\n",
              "    </tr>\n",
              "    <tr>\n",
              "      <th>30</th>\n",
              "      <td>0.000000</td>\n",
              "      <td>0.000000</td>\n",
              "      <td>0.000000</td>\n",
              "      <td>150143.255000</td>\n",
              "      <td>150143.255000</td>\n",
              "    </tr>\n",
              "    <tr>\n",
              "      <th>31</th>\n",
              "      <td>0.000000</td>\n",
              "      <td>138287.136667</td>\n",
              "      <td>71851.135000</td>\n",
              "      <td>0.000000</td>\n",
              "      <td>105069.135833</td>\n",
              "    </tr>\n",
              "    <tr>\n",
              "      <th>32</th>\n",
              "      <td>0.000000</td>\n",
              "      <td>0.000000</td>\n",
              "      <td>51471.203333</td>\n",
              "      <td>67837.990000</td>\n",
              "      <td>59654.596667</td>\n",
              "    </tr>\n",
              "    <tr>\n",
              "      <th>33</th>\n",
              "      <td>0.000000</td>\n",
              "      <td>73125.970000</td>\n",
              "      <td>0.000000</td>\n",
              "      <td>87062.210000</td>\n",
              "      <td>80094.090000</td>\n",
              "    </tr>\n",
              "    <tr>\n",
              "      <th>34</th>\n",
              "      <td>187189.370000</td>\n",
              "      <td>95242.220000</td>\n",
              "      <td>113814.360000</td>\n",
              "      <td>192952.050000</td>\n",
              "      <td>147299.500000</td>\n",
              "    </tr>\n",
              "    <tr>\n",
              "      <th>35</th>\n",
              "      <td>0.000000</td>\n",
              "      <td>0.000000</td>\n",
              "      <td>0.000000</td>\n",
              "      <td>184307.930000</td>\n",
              "      <td>184307.930000</td>\n",
              "    </tr>\n",
              "    <tr>\n",
              "      <th>36</th>\n",
              "      <td>0.000000</td>\n",
              "      <td>0.000000</td>\n",
              "      <td>111211.530000</td>\n",
              "      <td>92824.095000</td>\n",
              "      <td>102017.812500</td>\n",
              "    </tr>\n",
              "    <tr>\n",
              "      <th>38</th>\n",
              "      <td>0.000000</td>\n",
              "      <td>128808.620000</td>\n",
              "      <td>181622.470000</td>\n",
              "      <td>0.000000</td>\n",
              "      <td>155215.545000</td>\n",
              "    </tr>\n",
              "    <tr>\n",
              "      <th>39</th>\n",
              "      <td>199308.310000</td>\n",
              "      <td>96005.630000</td>\n",
              "      <td>186249.670000</td>\n",
              "      <td>102435.550000</td>\n",
              "      <td>145999.790000</td>\n",
              "    </tr>\n",
              "    <tr>\n",
              "      <th>40</th>\n",
              "      <td>174014.330000</td>\n",
              "      <td>0.000000</td>\n",
              "      <td>0.000000</td>\n",
              "      <td>0.000000</td>\n",
              "      <td>174014.330000</td>\n",
              "    </tr>\n",
              "    <tr>\n",
              "      <th>Total</th>\n",
              "      <td>122104.397812</td>\n",
              "      <td>103698.290877</td>\n",
              "      <td>126234.038333</td>\n",
              "      <td>123209.922431</td>\n",
              "      <td>118361.368449</td>\n",
              "    </tr>\n",
              "  </tbody>\n",
              "</table>\n",
              "</div>\n",
              "    <div class=\"colab-df-buttons\">\n",
              "\n",
              "  <div class=\"colab-df-container\">\n",
              "    <button class=\"colab-df-convert\" onclick=\"convertToInteractive('df-ad45a18e-3efc-4d6c-88e9-0a403d0ad2df')\"\n",
              "            title=\"Convert this dataframe to an interactive table.\"\n",
              "            style=\"display:none;\">\n",
              "\n",
              "  <svg xmlns=\"http://www.w3.org/2000/svg\" height=\"24px\" viewBox=\"0 -960 960 960\">\n",
              "    <path d=\"M120-120v-720h720v720H120Zm60-500h600v-160H180v160Zm220 220h160v-160H400v160Zm0 220h160v-160H400v160ZM180-400h160v-160H180v160Zm440 0h160v-160H620v160ZM180-180h160v-160H180v160Zm440 0h160v-160H620v160Z\"/>\n",
              "  </svg>\n",
              "    </button>\n",
              "\n",
              "  <style>\n",
              "    .colab-df-container {\n",
              "      display:flex;\n",
              "      gap: 12px;\n",
              "    }\n",
              "\n",
              "    .colab-df-convert {\n",
              "      background-color: #E8F0FE;\n",
              "      border: none;\n",
              "      border-radius: 50%;\n",
              "      cursor: pointer;\n",
              "      display: none;\n",
              "      fill: #1967D2;\n",
              "      height: 32px;\n",
              "      padding: 0 0 0 0;\n",
              "      width: 32px;\n",
              "    }\n",
              "\n",
              "    .colab-df-convert:hover {\n",
              "      background-color: #E2EBFA;\n",
              "      box-shadow: 0px 1px 2px rgba(60, 64, 67, 0.3), 0px 1px 3px 1px rgba(60, 64, 67, 0.15);\n",
              "      fill: #174EA6;\n",
              "    }\n",
              "\n",
              "    .colab-df-buttons div {\n",
              "      margin-bottom: 4px;\n",
              "    }\n",
              "\n",
              "    [theme=dark] .colab-df-convert {\n",
              "      background-color: #3B4455;\n",
              "      fill: #D2E3FC;\n",
              "    }\n",
              "\n",
              "    [theme=dark] .colab-df-convert:hover {\n",
              "      background-color: #434B5C;\n",
              "      box-shadow: 0px 1px 3px 1px rgba(0, 0, 0, 0.15);\n",
              "      filter: drop-shadow(0px 1px 2px rgba(0, 0, 0, 0.3));\n",
              "      fill: #FFFFFF;\n",
              "    }\n",
              "  </style>\n",
              "\n",
              "    <script>\n",
              "      const buttonEl =\n",
              "        document.querySelector('#df-ad45a18e-3efc-4d6c-88e9-0a403d0ad2df button.colab-df-convert');\n",
              "      buttonEl.style.display =\n",
              "        google.colab.kernel.accessAllowed ? 'block' : 'none';\n",
              "\n",
              "      async function convertToInteractive(key) {\n",
              "        const element = document.querySelector('#df-ad45a18e-3efc-4d6c-88e9-0a403d0ad2df');\n",
              "        const dataTable =\n",
              "          await google.colab.kernel.invokeFunction('convertToInteractive',\n",
              "                                                    [key], {});\n",
              "        if (!dataTable) return;\n",
              "\n",
              "        const docLinkHtml = 'Like what you see? Visit the ' +\n",
              "          '<a target=\"_blank\" href=https://colab.research.google.com/notebooks/data_table.ipynb>data table notebook</a>'\n",
              "          + ' to learn more about interactive tables.';\n",
              "        element.innerHTML = '';\n",
              "        dataTable['output_type'] = 'display_data';\n",
              "        await google.colab.output.renderOutput(dataTable, element);\n",
              "        const docLink = document.createElement('div');\n",
              "        docLink.innerHTML = docLinkHtml;\n",
              "        element.appendChild(docLink);\n",
              "      }\n",
              "    </script>\n",
              "  </div>\n",
              "\n",
              "\n",
              "<div id=\"df-053a5de5-d226-4e85-b33a-9b4a475dbcfd\">\n",
              "  <button class=\"colab-df-quickchart\" onclick=\"quickchart('df-053a5de5-d226-4e85-b33a-9b4a475dbcfd')\"\n",
              "            title=\"Suggest charts\"\n",
              "            style=\"display:none;\">\n",
              "\n",
              "<svg xmlns=\"http://www.w3.org/2000/svg\" height=\"24px\"viewBox=\"0 0 24 24\"\n",
              "     width=\"24px\">\n",
              "    <g>\n",
              "        <path d=\"M19 3H5c-1.1 0-2 .9-2 2v14c0 1.1.9 2 2 2h14c1.1 0 2-.9 2-2V5c0-1.1-.9-2-2-2zM9 17H7v-7h2v7zm4 0h-2V7h2v10zm4 0h-2v-4h2v4z\"/>\n",
              "    </g>\n",
              "</svg>\n",
              "  </button>\n",
              "\n",
              "<style>\n",
              "  .colab-df-quickchart {\n",
              "      --bg-color: #E8F0FE;\n",
              "      --fill-color: #1967D2;\n",
              "      --hover-bg-color: #E2EBFA;\n",
              "      --hover-fill-color: #174EA6;\n",
              "      --disabled-fill-color: #AAA;\n",
              "      --disabled-bg-color: #DDD;\n",
              "  }\n",
              "\n",
              "  [theme=dark] .colab-df-quickchart {\n",
              "      --bg-color: #3B4455;\n",
              "      --fill-color: #D2E3FC;\n",
              "      --hover-bg-color: #434B5C;\n",
              "      --hover-fill-color: #FFFFFF;\n",
              "      --disabled-bg-color: #3B4455;\n",
              "      --disabled-fill-color: #666;\n",
              "  }\n",
              "\n",
              "  .colab-df-quickchart {\n",
              "    background-color: var(--bg-color);\n",
              "    border: none;\n",
              "    border-radius: 50%;\n",
              "    cursor: pointer;\n",
              "    display: none;\n",
              "    fill: var(--fill-color);\n",
              "    height: 32px;\n",
              "    padding: 0;\n",
              "    width: 32px;\n",
              "  }\n",
              "\n",
              "  .colab-df-quickchart:hover {\n",
              "    background-color: var(--hover-bg-color);\n",
              "    box-shadow: 0 1px 2px rgba(60, 64, 67, 0.3), 0 1px 3px 1px rgba(60, 64, 67, 0.15);\n",
              "    fill: var(--button-hover-fill-color);\n",
              "  }\n",
              "\n",
              "  .colab-df-quickchart-complete:disabled,\n",
              "  .colab-df-quickchart-complete:disabled:hover {\n",
              "    background-color: var(--disabled-bg-color);\n",
              "    fill: var(--disabled-fill-color);\n",
              "    box-shadow: none;\n",
              "  }\n",
              "\n",
              "  .colab-df-spinner {\n",
              "    border: 2px solid var(--fill-color);\n",
              "    border-color: transparent;\n",
              "    border-bottom-color: var(--fill-color);\n",
              "    animation:\n",
              "      spin 1s steps(1) infinite;\n",
              "  }\n",
              "\n",
              "  @keyframes spin {\n",
              "    0% {\n",
              "      border-color: transparent;\n",
              "      border-bottom-color: var(--fill-color);\n",
              "      border-left-color: var(--fill-color);\n",
              "    }\n",
              "    20% {\n",
              "      border-color: transparent;\n",
              "      border-left-color: var(--fill-color);\n",
              "      border-top-color: var(--fill-color);\n",
              "    }\n",
              "    30% {\n",
              "      border-color: transparent;\n",
              "      border-left-color: var(--fill-color);\n",
              "      border-top-color: var(--fill-color);\n",
              "      border-right-color: var(--fill-color);\n",
              "    }\n",
              "    40% {\n",
              "      border-color: transparent;\n",
              "      border-right-color: var(--fill-color);\n",
              "      border-top-color: var(--fill-color);\n",
              "    }\n",
              "    60% {\n",
              "      border-color: transparent;\n",
              "      border-right-color: var(--fill-color);\n",
              "    }\n",
              "    80% {\n",
              "      border-color: transparent;\n",
              "      border-right-color: var(--fill-color);\n",
              "      border-bottom-color: var(--fill-color);\n",
              "    }\n",
              "    90% {\n",
              "      border-color: transparent;\n",
              "      border-bottom-color: var(--fill-color);\n",
              "    }\n",
              "  }\n",
              "</style>\n",
              "\n",
              "  <script>\n",
              "    async function quickchart(key) {\n",
              "      const quickchartButtonEl =\n",
              "        document.querySelector('#' + key + ' button');\n",
              "      quickchartButtonEl.disabled = true;  // To prevent multiple clicks.\n",
              "      quickchartButtonEl.classList.add('colab-df-spinner');\n",
              "      try {\n",
              "        const charts = await google.colab.kernel.invokeFunction(\n",
              "            'suggestCharts', [key], {});\n",
              "      } catch (error) {\n",
              "        console.error('Error during call to suggestCharts:', error);\n",
              "      }\n",
              "      quickchartButtonEl.classList.remove('colab-df-spinner');\n",
              "      quickchartButtonEl.classList.add('colab-df-quickchart-complete');\n",
              "    }\n",
              "    (() => {\n",
              "      let quickchartButtonEl =\n",
              "        document.querySelector('#df-053a5de5-d226-4e85-b33a-9b4a475dbcfd button');\n",
              "      quickchartButtonEl.style.display =\n",
              "        google.colab.kernel.accessAllowed ? 'block' : 'none';\n",
              "    })();\n",
              "  </script>\n",
              "</div>\n",
              "\n",
              "    </div>\n",
              "  </div>\n"
            ],
            "application/vnd.google.colaboratory.intrinsic+json": {
              "type": "dataframe",
              "summary": "{\n  \"name\": \"average_salary_by_dept_years\",\n  \"rows\": 39,\n  \"fields\": [\n    {\n      \"column\": \"YearsWithCompany\",\n      \"properties\": {\n        \"dtype\": \"string\",\n        \"num_unique_values\": 39,\n        \"samples\": [\n          35,\n          39,\n          4\n        ],\n        \"semantic_type\": \"\",\n        \"description\": \"\"\n      }\n    },\n    {\n      \"column\": \"Finance\",\n      \"properties\": {\n        \"dtype\": \"number\",\n        \"std\": 68611.04292962453,\n        \"min\": 0.0,\n        \"max\": 199308.31,\n        \"num_unique_values\": 18,\n        \"samples\": [\n          93302.905,\n          0.0,\n          64378.384999999995\n        ],\n        \"semantic_type\": \"\",\n        \"description\": \"\"\n      }\n    },\n    {\n      \"column\": \"HR\",\n      \"properties\": {\n        \"dtype\": \"number\",\n        \"std\": 61368.46017080103,\n        \"min\": 0.0,\n        \"max\": 184694.84999999998,\n        \"num_unique_values\": 21,\n        \"samples\": [\n          58572.82,\n          95242.22,\n          138287.1366666667\n        ],\n        \"semantic_type\": \"\",\n        \"description\": \"\"\n      }\n    },\n    {\n      \"column\": \"IT\",\n      \"properties\": {\n        \"dtype\": \"number\",\n        \"std\": 68937.26870019753,\n        \"min\": 0.0,\n        \"max\": 199291.33,\n        \"num_unique_values\": 15,\n        \"samples\": [\n          51471.20333333334,\n          111211.53,\n          0.0\n        ],\n        \"semantic_type\": \"\",\n        \"description\": \"\"\n      }\n    },\n    {\n      \"column\": \"Marketing\",\n      \"properties\": {\n        \"dtype\": \"number\",\n        \"std\": 69044.13776406927,\n        \"min\": 0.0,\n        \"max\": 193237.635,\n        \"num_unique_values\": 26,\n        \"samples\": [\n          75209.45,\n          100045.94,\n          0.0\n        ],\n        \"semantic_type\": \"\",\n        \"description\": \"\"\n      }\n    },\n    {\n      \"column\": \"Total\",\n      \"properties\": {\n        \"dtype\": \"number\",\n        \"std\": 39174.92418390835,\n        \"min\": 45589.71,\n        \"max\": 193237.635,\n        \"num_unique_values\": 39,\n        \"samples\": [\n          184307.93,\n          145999.79,\n          89184.285\n        ],\n        \"semantic_type\": \"\",\n        \"description\": \"\"\n      }\n    }\n  ]\n}"
            }
          },
          "metadata": {},
          "execution_count": 64
        }
      ]
    },
    {
      "cell_type": "markdown",
      "source": [
        "#### Question 2"
      ],
      "metadata": {
        "id": "uQC21eBA747o"
      }
    },
    {
      "cell_type": "code",
      "source": [
        "# Set the figure size for better readability\n",
        "plt.figure(figsize=(14, 8))\n",
        "\n",
        "# Create boxplots for annual salaries by department\n",
        "boxplots = df_eg1.boxplot(column='AnnualSalary', by='Department', grid=False)\n",
        "\n",
        "# Set titles and labels\n",
        "plt.title('Boxplot of Annual Salaries by Department')\n",
        "plt.suptitle('')  # Suppress the automatic title to avoid duplication\n",
        "plt.xlabel('Department')\n",
        "plt.ylabel('Annual Salary ($)')\n",
        "plt.xticks(rotation=45)  # Rotate the department names for better readability\n",
        "\n",
        "# Show the plot\n",
        "plt.show()"
      ],
      "metadata": {
        "colab": {
          "base_uri": "https://localhost:8080/",
          "height": 525
        },
        "id": "gMt7zYWt7wLh",
        "outputId": "2b451594-0a34-4316-8f92-775e6fc3346c"
      },
      "execution_count": null,
      "outputs": [
        {
          "output_type": "display_data",
          "data": {
            "text/plain": [
              "<Figure size 1400x800 with 0 Axes>"
            ]
          },
          "metadata": {}
        },
        {
          "output_type": "display_data",
          "data": {
            "text/plain": [
              "<Figure size 640x480 with 1 Axes>"
            ],
            "image/png": "[encoded data removed]"
          },
          "metadata": {}
        }
      ]
    },
    {
      "cell_type": "markdown",
      "source": [
        "#### Question 3"
      ],
      "metadata": {
        "id": "sEXO2SdT8Wd0"
      }
    },
    {
      "cell_type": "code",
      "source": [
        "# Using Seaborn to create a scatter plot with a regression line to see the relationship\n",
        "import seaborn as sns\n",
        "\n",
        "plt.figure(figsize=(14, 8))\n",
        "sns.lmplot(x='JobSatisfaction', y='AnnualSalary', hue='Department', data=df_eg1, aspect=2, height=6)\n",
        "plt.title('Job Satisfaction vs. Annual Salary by Department')\n",
        "plt.xlabel('Job Satisfaction Rating')\n",
        "plt.ylabel('Annual Salary ($)')\n",
        "\n",
        "# Show the plot\n",
        "plt.show()"
      ],
      "metadata": {
        "colab": {
          "base_uri": "https://localhost:8080/",
          "height": 585
        },
        "id": "0LpxnHOu8FrK",
        "outputId": "85db875c-af91-4a3d-e338-3a2254052d92"
      },
      "execution_count": null,
      "outputs": [
        {
          "output_type": "display_data",
          "data": {
            "text/plain": [
              "<Figure size 1400x800 with 0 Axes>"
            ]
          },
          "metadata": {}
        },
        {
          "output_type": "display_data",
          "data": {
            "text/plain": [
              "<Figure size 1319.5x600 with 1 Axes>"
            ],
            "image/png": "[encoded data removed]"
          },
          "metadata": {}
        }
      ]
    },
    {
      "cell_type": "markdown",
      "source": [
        "## Example 2: Analyzing Student Exam Performance"
      ],
      "metadata": {
        "id": "TqWXGF-Bij3w"
      }
    },
    {
      "cell_type": "markdown",
      "source": [
        "### Applied Management Question\n",
        "    1) Does the exam average differ from one class section compared to another section?"
      ],
      "metadata": {
        "id": "zh0xWU7k2xs3"
      }
    },
    {
      "cell_type": "code",
      "source": [
        "# Load pandas to import data (not really necessary again since we already loaded it)\n",
        "import pandas as pd"
      ],
      "metadata": {
        "id": "Oi3YEUatimr9"
      },
      "execution_count": null,
      "outputs": []
    },
    {
      "cell_type": "code",
      "source": [
        "df_eg2a = pd.read_csv(\"https://raw.githubusercontent.com/justinbkeeler/Datasets/main/swam2024_pdw_eg2a.csv\")\n",
        "df_eg2b = pd.read_csv(\"https://raw.githubusercontent.com/justinbkeeler/Datasets/main/swam2024_pdw_eg2b.csv\")"
      ],
      "metadata": {
        "id": "fKDnLlkF9BYP"
      },
      "execution_count": null,
      "outputs": []
    },
    {
      "cell_type": "markdown",
      "source": [
        "#### Question 1"
      ],
      "metadata": {
        "id": "f26YvXlR83iW"
      }
    },
    {
      "cell_type": "markdown",
      "source": [
        "##### Descriptives"
      ],
      "metadata": {
        "id": "4CLx5duUAZ0O"
      }
    },
    {
      "cell_type": "code",
      "source": [
        "df_eg2a['score'].describe().map(lambda x: '{:.2f}'.format(x))"
      ],
      "metadata": {
        "colab": {
          "base_uri": "https://localhost:8080/"
        },
        "id": "CVCp-3gK86kT",
        "outputId": "edcd7eea-3ab5-4228-ca2a-3cc797ecea85"
      },
      "execution_count": null,
      "outputs": [
        {
          "output_type": "execute_result",
          "data": {
            "text/plain": [
              "count    16.00\n",
              "mean     67.97\n",
              "std      17.71\n",
              "min      37.50\n",
              "25%      56.88\n",
              "50%      71.25\n",
              "75%      83.12\n",
              "max      90.00\n",
              "Name: score, dtype: object"
            ]
          },
          "metadata": {},
          "execution_count": 72
        }
      ]
    },
    {
      "cell_type": "code",
      "source": [
        "df_eg2b['score'].describe().map(lambda x: '{:.2f}'.format(x))"
      ],
      "metadata": {
        "colab": {
          "base_uri": "https://localhost:8080/"
        },
        "id": "NLMp6TKD9qWP",
        "outputId": "bd81f7fb-a961-4983-cfbc-a6e281e9369e"
      },
      "execution_count": null,
      "outputs": [
        {
          "output_type": "execute_result",
          "data": {
            "text/plain": [
              "count    40.00\n",
              "mean     69.44\n",
              "std      16.16\n",
              "min      42.50\n",
              "25%      52.50\n",
              "50%      73.75\n",
              "75%      83.12\n",
              "max      92.50\n",
              "Name: score, dtype: object"
            ]
          },
          "metadata": {},
          "execution_count": 73
        }
      ]
    },
    {
      "cell_type": "code",
      "source": [
        "import matplotlib.pyplot as plt\n",
        "plt.hist(df_eg2a['score'], bins=15, color='#86bf91', rwidth=0.8)\n",
        "plt.title('Mgmt 510 Midterm MW Distribution')\n",
        "plt.xlabel('Midterm Scores')\n",
        "plt.ylabel('Frequency')"
      ],
      "metadata": {
        "colab": {
          "base_uri": "https://localhost:8080/",
          "height": 490
        },
        "id": "PP8fTXL09ty9",
        "outputId": "acb5b886-bd42-4f35-fe0b-2996d3174bc4"
      },
      "execution_count": null,
      "outputs": [
        {
          "output_type": "execute_result",
          "data": {
            "text/plain": [
              "Text(0, 0.5, 'Frequency')"
            ]
          },
          "metadata": {},
          "execution_count": 78
        },
        {
          "output_type": "display_data",
          "data": {
            "text/plain": [
              "<Figure size 640x480 with 1 Axes>"
            ],
            "image/png": "[encoded data removed]"
          },
          "metadata": {}
        }
      ]
    },
    {
      "cell_type": "code",
      "source": [
        "import seaborn as sns\n",
        "import pandas as pd\n",
        "import numpy as np\n",
        "\n",
        "# Initialize a 2x2 grid of plots\n",
        "fig, axes = plt.subplots(2, 2, figsize=(9, 7))\n",
        "\n",
        "# Chart 1: Histogram of Variable_A\n",
        "sns.histplot(df_eg2a['score'], ax=axes[0, 0], color='skyblue', kde=True, fill=True)\n",
        "axes[0, 0].set_title('Histogram of Mgmt 510 - MW')\n",
        "axes[0, 0].set_xlabel('Midterm Score')\n",
        "axes[0, 0].set_ylabel('Frequency')\n",
        "\n",
        "# Chart 2: Histogram of Variable_B\n",
        "sns.histplot(df_eg2b['score'], ax=axes[0, 1], color='salmon', kde=True, fill=True)\n",
        "axes[0, 1].set_title('Histogram of Mgmt 510 - W')\n",
        "axes[0, 1].set_xlabel('Midterm Score')\n",
        "axes[0, 1].set_ylabel('Frequency')\n",
        "\n",
        "# Table 1: Descriptive Statistics for Variable_A\n",
        "stats_A = df_eg2a['score'].describe().reset_index()\n",
        "stats_A.columns = ['Statistic', 'Value']\n",
        "\n",
        "# Formatting without rounding\n",
        "stats_A['Value'] = stats_A['Value'].apply(\"{:.2f}\".format)\n",
        "axes[1, 0].axis('tight')\n",
        "axes[1, 0].axis('off')\n",
        "table_data = []\n",
        "for row in stats_A.values:\n",
        "    table_data.append(row)\n",
        "table = axes[1, 0].table(cellText=table_data, colLabels=stats_A.columns, cellLoc = 'center', loc='center')\n",
        "table.auto_set_font_size(False)\n",
        "table.set_fontsize(9)\n",
        "\n",
        "# Table 2: Descriptive Statistics for Variable_B\n",
        "stats_B = df_eg2b['score'].describe().reset_index()\n",
        "stats_B.columns = ['Statistic', 'Value']\n",
        "\n",
        "stats_B['Value'] = stats_B['Value'].apply(\"{:.2f}\".format)\n",
        "axes[1, 1].axis('tight')\n",
        "axes[1, 1].axis('off')\n",
        "table_data = []\n",
        "for row in stats_B.values:\n",
        "    table_data.append(row)\n",
        "table = axes[1, 1].table(cellText=table_data, colLabels=stats_B.columns, cellLoc = 'center', loc='center')\n",
        "table.auto_set_font_size(False)\n",
        "table.set_fontsize(9)\n",
        "\n",
        "# Adjust spacing between subplots\n",
        "plt.tight_layout(pad=4.0)\n",
        "\n",
        "# Display the plots\n",
        "plt.show()"
      ],
      "metadata": {
        "id": "47DyDGI2-XnH"
      },
      "execution_count": null,
      "outputs": []
    },
    {
      "cell_type": "code",
      "source": [
        "import matplotlib.pyplot as plt\n",
        "plt.hist(df_eg2b['score'], bins=15, color='#86bf91', rwidth=0.8)\n",
        "plt.title('Mgmt 510 Midterm W Distribution')\n",
        "plt.xlabel('Midterm Scores')\n",
        "plt.ylabel('Frequency')"
      ],
      "metadata": {
        "colab": {
          "base_uri": "https://localhost:8080/",
          "height": 490
        },
        "id": "EJX9k0Fh97i9",
        "outputId": "81ddb18d-4492-4057-9c2e-cba69b685363"
      },
      "execution_count": null,
      "outputs": [
        {
          "output_type": "execute_result",
          "data": {
            "text/plain": [
              "Text(0, 0.5, 'Frequency')"
            ]
          },
          "metadata": {},
          "execution_count": 79
        },
        {
          "output_type": "display_data",
          "data": {
            "text/plain": [
              "<Figure size 640x480 with 1 Axes>"
            ],
            "image/png": "[encoded data removed]"
          },
          "metadata": {}
        }
      ]
    },
    {
      "cell_type": "code",
      "source": [
        "import seaborn as sns\n",
        "import pandas as pd\n",
        "import numpy as np\n",
        "\n",
        "# Initialize a 2x2 grid of plots\n",
        "fig, axes = plt.subplots(2, 2, figsize=(9, 7))\n",
        "\n",
        "# Chart 1: Histogram of Variable_A\n",
        "sns.histplot(df_eg2a['score'], ax=axes[0, 0], color='skyblue', kde=True, fill=True)\n",
        "axes[0, 0].set_title('Histogram of Mgmt 510 - MW')\n",
        "axes[0, 0].set_xlabel('Midterm Score')\n",
        "axes[0, 0].set_ylabel('Frequency')\n",
        "\n",
        "# Chart 2: Histogram of Variable_B\n",
        "sns.histplot(df_eg2b['score'], ax=axes[0, 1], color='salmon', kde=True, fill=True)\n",
        "axes[0, 1].set_title('Histogram of Mgmt 510 - W')\n",
        "axes[0, 1].set_xlabel('Midterm Score')\n",
        "axes[0, 1].set_ylabel('Frequency')\n",
        "\n",
        "# Table 1: Descriptive Statistics for Variable_A\n",
        "stats_A = df_eg2a['score'].describe().reset_index()\n",
        "stats_A.columns = ['Statistic', 'Value']\n",
        "\n",
        "# Formatting without rounding\n",
        "stats_A['Value'] = stats_A['Value'].apply(\"{:.2f}\".format)\n",
        "axes[1, 0].axis('tight')\n",
        "axes[1, 0].axis('off')\n",
        "table_data = []\n",
        "for row in stats_A.values:\n",
        "    table_data.append(row)\n",
        "table = axes[1, 0].table(cellText=table_data, colLabels=stats_A.columns, cellLoc = 'center', loc='center')\n",
        "table.auto_set_font_size(False)\n",
        "table.set_fontsize(9)\n",
        "\n",
        "# Table 2: Descriptive Statistics for Variable_B\n",
        "stats_B = df_eg2b['score'].describe().reset_index()\n",
        "stats_B.columns = ['Statistic', 'Value']\n",
        "\n",
        "stats_B['Value'] = stats_B['Value'].apply(\"{:.2f}\".format)\n",
        "axes[1, 1].axis('tight')\n",
        "axes[1, 1].axis('off')\n",
        "table_data = []\n",
        "for row in stats_B.values:\n",
        "    table_data.append(row)\n",
        "table = axes[1, 1].table(cellText=table_data, colLabels=stats_B.columns, cellLoc = 'center', loc='center')\n",
        "table.auto_set_font_size(False)\n",
        "table.set_fontsize(9)\n",
        "\n",
        "# Adjust spacing between subplots\n",
        "plt.tight_layout(pad=4.0)\n",
        "\n",
        "# Display the plots\n",
        "plt.show()"
      ],
      "metadata": {
        "colab": {
          "base_uri": "https://localhost:8080/",
          "height": 625
        },
        "id": "wVK1_Gbr-wpb",
        "outputId": "f5a23bb3-de5a-467d-ca1f-c09edb83cca3"
      },
      "execution_count": null,
      "outputs": [
        {
          "output_type": "display_data",
          "data": {
            "text/plain": [
              "<Figure size 900x700 with 4 Axes>"
            ],
            "image/png": "[encoded data removed]"
          },
          "metadata": {}
        }
      ]
    },
    {
      "cell_type": "markdown",
      "source": [
        "##### Grouping Values & Calculating Means"
      ],
      "metadata": {
        "id": "27QRnr9v_6pW"
      }
    },
    {
      "cell_type": "code",
      "source": [
        "df_eg2a.groupby(pd.Grouper(key=\"team\")).score.mean().sort_values(ascending=False).map(lambda x: '{:.2f}'.format(x))"
      ],
      "metadata": {
        "colab": {
          "base_uri": "https://localhost:8080/"
        },
        "id": "8v3e9S9A_Bxr",
        "outputId": "2ebbdf81-42b9-4d69-8956-02ba48cdc446"
      },
      "execution_count": null,
      "outputs": [
        {
          "output_type": "execute_result",
          "data": {
            "text/plain": [
              "team\n",
              "1    74.38\n",
              "4    68.75\n",
              "3    65.62\n",
              "2    63.12\n",
              "Name: score, dtype: object"
            ]
          },
          "metadata": {},
          "execution_count": 81
        }
      ]
    },
    {
      "cell_type": "code",
      "source": [
        "df_eg2b.groupby(pd.Grouper(key=\"team\")).score.mean().sort_values(ascending=False).map(lambda x: '{:.2f}'.format(x))"
      ],
      "metadata": {
        "colab": {
          "base_uri": "https://localhost:8080/"
        },
        "id": "1xi9K-NC_JwF",
        "outputId": "3e2a928c-05b5-4c55-e9f0-fbd90aae7060"
      },
      "execution_count": null,
      "outputs": [
        {
          "output_type": "execute_result",
          "data": {
            "text/plain": [
              "team\n",
              "4    83.00\n",
              "3    73.00\n",
              "5    72.50\n",
              "1    72.00\n",
              "8    65.50\n",
              "7    64.50\n",
              "2    63.00\n",
              "6    62.00\n",
              "Name: score, dtype: object"
            ]
          },
          "metadata": {},
          "execution_count": 84
        }
      ]
    },
    {
      "cell_type": "markdown",
      "source": [
        "##### ANOVA"
      ],
      "metadata": {
        "id": "R_za5WlB_1vc"
      }
    },
    {
      "cell_type": "code",
      "source": [
        "df_eg2a['group'] = 'MW'\n",
        "df_eg2b['group'] = 'W'\n",
        "\n",
        "df_eg2a = df_eg2a.rename(columns={'Midterm_MW': 'score'})\n",
        "df_eg2b = df_eg2b.rename(columns={'Midterm_W': 'score'})\n",
        "\n",
        "data_anova = pd.concat([df_eg2a, df_eg2b])\n",
        "\n",
        "import statsmodels.api as sm\n",
        "from statsmodels.formula.api import ols\n",
        "\n",
        "# Fit the model\n",
        "model = ols('score ~ C(group)', data=data_anova).fit()\n",
        "\n",
        "# Perform ANOVA and print the table\n",
        "anova_table = sm.stats.anova_lm(model, typ=2)\n",
        "print(anova_table)"
      ],
      "metadata": {
        "colab": {
          "base_uri": "https://localhost:8080/"
        },
        "id": "b04TfCqA_VBv",
        "outputId": "3b37edb4-73a4-4eec-ce24-b61edbf6e7f3"
      },
      "execution_count": null,
      "outputs": [
        {
          "output_type": "stream",
          "name": "stdout",
          "text": [
            "                sum_sq    df         F    PR(>F)\n",
            "C(group)     24.654018   1.0  0.089447  0.766029\n",
            "Residual  14883.828125  54.0       NaN       NaN\n"
          ]
        }
      ]
    },
    {
      "cell_type": "markdown",
      "source": [
        "## Example 3: Network Analysis of Connectedness"
      ],
      "metadata": {
        "id": "K0LuPKE1XmbH"
      }
    },
    {
      "cell_type": "markdown",
      "source": [
        "### Applied Managment Questions  \n",
        "\n",
        "    1) Who are the top/key influencers?  \n",
        "    2) Who are the communication bottlenecks?  \n",
        "    3) What are some of the subgroups and/or communities? Is anyone isolated?"
      ],
      "metadata": {
        "id": "HvKIwWe4jP6_"
      }
    },
    {
      "cell_type": "code",
      "source": [
        "# Load library to build data frame via dictionary\n",
        "import pandas as pd"
      ],
      "metadata": {
        "id": "rtBso--SXof7"
      },
      "execution_count": null,
      "outputs": []
    },
    {
      "cell_type": "code",
      "source": [
        "# Example data for 10 individuals\n",
        "data = {\n",
        "    'Source': [\n",
        "        'Alice', 'Bob', 'Charlie', 'Alice', 'Eve', 'Frank', 'George', 'Harry', 'Ivy', 'Jane',\n",
        "        'Robert', 'Bob', 'Charlie', 'Eve', 'Frank', 'George', 'Harry', 'Ivy', 'Jane', 'Alice',\n",
        "        'Bob', 'Charlie', 'Eve', 'Frank', 'Ivy'\n",
        "    ],\n",
        "    'Target': [\n",
        "        'Bob', 'Charlie', 'Alice', 'Eve', 'Frank', 'Eve', 'Harry', 'Ivy', 'Jane', 'Alice',\n",
        "        'Charlie', 'Eve', 'Frank', 'Robert', 'Harry', 'Ivy', 'Jane', 'Alice', 'Robert', 'Jane',\n",
        "        'Ivy', 'Harry', 'Robert', 'Alice', 'Eve'\n",
        "    ],\n",
        "    'Interaction_Type': [\n",
        "        'Email', 'Meeting', 'Instant Message', 'Email', 'Instant Message', 'Meeting', 'Email',\n",
        "        'Meeting', 'Email', 'Instant Message', 'Email', 'Meeting', 'Instant Message', 'Email',\n",
        "        'Instant Message', 'Meeting', 'Email', 'Meeting', 'Email', 'Instant Message',\n",
        "        'Email', 'Meeting', 'Instant Message', 'Email', 'Instant Message'\n",
        "    ],\n",
        "    'Timestamp': pd.date_range(start='2024-04-01', periods=25, freq='D'),\n",
        "    'Duration': [\n",
        "        0, 30, 0, 0, 0, 45, 0, 30, 0, 0, 0, 30, 0, 0, 0, 45, 0, 30, 0, 0,\n",
        "        0, 30, 0, 0, 0\n",
        "    ],  # Duration in minutes; 0 for instant interactions\n",
        "    'Topic': [\n",
        "        'Project Management', 'Feedback', 'Support', 'Project Management', 'Support', 'Feedback', 'Project Management',\n",
        "        'Feedback', 'Support', 'Project Management', 'Support', 'Feedback', 'Project Management', 'Support',\n",
        "        'Feedback', 'Project Management', 'Support', 'Feedback', 'Project Management', 'Support',\n",
        "        'Feedback', 'Project Management', 'Support', 'Feedback', 'Project Management'\n",
        "    ],\n",
        "    'Sentiment': [\n",
        "        'positive', 'neutral', 'positive', 'negative', 'positive', 'neutral', 'positive',\n",
        "        'neutral', 'positive', 'negative', 'positive', 'neutral', 'positive', 'negative',\n",
        "        'positive', 'neutral', 'positive', 'neutral', 'positive', 'negative',\n",
        "        'positive', 'neutral', 'positive', 'negative', 'positive'\n",
        "    ]\n",
        "}\n",
        "\n",
        "# Create DataFrame\n",
        "df_eg3 = pd.DataFrame(data)"
      ],
      "metadata": {
        "id": "jdQm59MfaMxY"
      },
      "execution_count": null,
      "outputs": []
    },
    {
      "cell_type": "code",
      "source": [
        "df_eg3 = pd.read_csv(\"https://raw.githubusercontent.com/justinbkeeler/Datasets/main/swam2024_pdw_eg3.csv\")"
      ],
      "metadata": {
        "id": "9bM-_kzBAlLZ"
      },
      "execution_count": null,
      "outputs": []
    },
    {
      "cell_type": "code",
      "source": [
        "df_eg3.to_csv(\"eg3.csv\", index=False)"
      ],
      "metadata": {
        "id": "airaesK4rBwf"
      },
      "execution_count": null,
      "outputs": []
    },
    {
      "cell_type": "code",
      "source": [
        "print(df_eg3)"
      ],
      "metadata": {
        "id": "zrcdNq48X7Da"
      },
      "execution_count": null,
      "outputs": []
    },
    {
      "cell_type": "code",
      "source": [
        "# Load libraries for analyzing the network and visualizing relationships/patterns\n",
        "import networkx as nx\n",
        "import matplotlib.pyplot as plt\n",
        "from networkx.algorithms.community import girvan_newman"
      ],
      "metadata": {
        "id": "dOCpR_YUaZed"
      },
      "execution_count": null,
      "outputs": []
    },
    {
      "cell_type": "code",
      "source": [
        "# Convert the DataFrame for 10 fictitious individuals to a directed graph\n",
        "G_10 = nx.from_pandas_edgelist(df_eg3, 'Source', 'Target', ['Interaction_Type', 'Timestamp', 'Duration', 'Topic', 'Sentiment'], create_using=nx.DiGraph())\n",
        "\n",
        "# Calculate degree centrality for the 10 individuals network\n",
        "degree_centrality_10 = nx.degree_centrality(G_10)\n",
        "\n",
        "# Calculate betweenness centrality for the 10 individuals network\n",
        "betweenness_centrality_10 = nx.betweenness_centrality(G_10)\n",
        "\n",
        "# Community detection using the Girvan-Newman algorithm for the 10 individuals network\n",
        "communities_10 = next(girvan_newman(G_10))\n",
        "\n",
        "# Visualization for the network of 10 individuals\n",
        "plt.figure(figsize=(14, 12))\n",
        "pos_10 = nx.spring_layout(G_10)  # positions for all nodes\n",
        "nx.draw_networkx_nodes(G_10, pos_10, node_size=50)\n",
        "nx.draw_networkx_edges(G_10, pos_10, alpha=0.5)\n",
        "nx.draw_networkx_labels(G_10, pos_10, font_size=8)\n",
        "plt.title('Interaction Network for 10 Fictitious Individuals')\n",
        "plt.show()\n",
        "\n",
        "# Display calculated metrics for demonstration\n",
        "sorted_degree_centrality_10 = sorted(degree_centrality_10.items(), key=lambda x: x[1], reverse=True)[:5]  # Top 5\n",
        "sorted_betweenness_centrality_10 = sorted(betweenness_centrality_10.items(), key=lambda x: x[1], reverse=True)[:5]  # Top 5\n",
        "list(communities_10)[:3]  # Displaying a few communities for brevity\n"
      ],
      "metadata": {
        "colab": {
          "base_uri": "https://localhost:8080/",
          "height": 1000
        },
        "id": "XaHTcxKwdsK-",
        "outputId": "1f291981-1d7a-406b-d201-03932bcd5684"
      },
      "execution_count": null,
      "outputs": [
        {
          "output_type": "display_data",
          "data": {
            "text/plain": [
              "<Figure size 1400x1200 with 1 Axes>"
            ],
            "image/png": "[encoded data removed]"
          },
          "metadata": {}
        },
        {
          "output_type": "execute_result",
          "data": {
            "text/plain": [
              "[{'Alice', 'Bob', 'Charlie', 'Eve', 'Frank', 'Harry', 'Ivy', 'Jane', 'Robert'},\n",
              " {'George'}]"
            ]
          },
          "metadata": {},
          "execution_count": 54
        }
      ]
    },
    {
      "cell_type": "markdown",
      "source": [
        "#### Question 1"
      ],
      "metadata": {
        "id": "_Kc54bpulCqz"
      }
    },
    {
      "cell_type": "code",
      "source": [
        "sorted_degree_centrality_10"
      ],
      "metadata": {
        "colab": {
          "base_uri": "https://localhost:8080/"
        },
        "id": "xgDTiTMGkDfk",
        "outputId": "ab6f5d74-7996-448a-da1f-d03afd3a5274"
      },
      "execution_count": null,
      "outputs": [
        {
          "output_type": "execute_result",
          "data": {
            "text/plain": [
              "[('Alice', 0.7777777777777777),\n",
              " ('Eve', 0.6666666666666666),\n",
              " ('Ivy', 0.6666666666666666),\n",
              " ('Charlie', 0.5555555555555556),\n",
              " ('Frank', 0.5555555555555556)]"
            ]
          },
          "metadata": {},
          "execution_count": 37
        }
      ]
    },
    {
      "cell_type": "code",
      "source": [
        "# Print top 5 key influencers based on degree centrality\n",
        "print(\"Top 5 Key Influencers (Degree Centrality):\")\n",
        "for name, score in sorted_degree_centrality_10[:5]:\n",
        "    print(f\"{name:10}:{score:.4f}\")"
      ],
      "metadata": {
        "colab": {
          "base_uri": "https://localhost:8080/"
        },
        "id": "cov1Ahq0kPMr",
        "outputId": "fca0aec0-0e7e-4a99-f938-8c27ae576240"
      },
      "execution_count": null,
      "outputs": [
        {
          "output_type": "stream",
          "name": "stdout",
          "text": [
            "Top 5 Key Influencers (Degree Centrality):\n",
            "Alice     :0.7778\n",
            "Eve       :0.6667\n",
            "Ivy       :0.6667\n",
            "Charlie   :0.5556\n",
            "Frank     :0.5556\n"
          ]
        }
      ]
    },
    {
      "cell_type": "markdown",
      "source": [
        "Interpretation: These individuals are the most connected within the network, playing a significant role in the flow of communication among team members."
      ],
      "metadata": {
        "id": "Hk1yFn67l2MM"
      }
    },
    {
      "cell_type": "markdown",
      "source": [
        "#### Question 2"
      ],
      "metadata": {
        "id": "XJhzU46ql71w"
      }
    },
    {
      "cell_type": "code",
      "source": [
        "sorted_betweenness_centrality_10"
      ],
      "metadata": {
        "colab": {
          "base_uri": "https://localhost:8080/"
        },
        "id": "Ibs1CryRl0lE",
        "outputId": "35df16dd-d8f0-4878-842e-de1fe5f16481"
      },
      "execution_count": null,
      "outputs": [
        {
          "output_type": "execute_result",
          "data": {
            "text/plain": [
              "[('Alice', 0.20949074074074073),\n",
              " ('Eve', 0.15856481481481483),\n",
              " ('Charlie', 0.15277777777777776),\n",
              " ('Ivy', 0.14467592592592593),\n",
              " ('Frank', 0.10763888888888888)]"
            ]
          },
          "metadata": {},
          "execution_count": 47
        }
      ]
    },
    {
      "cell_type": "code",
      "source": [
        "# Print top 5 communication bottlenecks based on betweenness centrality\n",
        "print(\"\\nTop 5 Communication Bottlenecks (Betweenness Centrality):\")\n",
        "for name, score in sorted_betweenness_centrality_10[:5]:\n",
        "    print(f\"{name:10}: {score:.4f}\")"
      ],
      "metadata": {
        "colab": {
          "base_uri": "https://localhost:8080/"
        },
        "id": "VxQXiqYgk7t1",
        "outputId": "d663de73-f9d0-4818-fea8-85c1ac230f9b"
      },
      "execution_count": null,
      "outputs": [
        {
          "output_type": "stream",
          "name": "stdout",
          "text": [
            "\n",
            "Top 5 Communication Bottlenecks (Betweenness Centrality):\n",
            "Alice     : 0.2095\n",
            "Eve       : 0.1586\n",
            "Charlie   : 0.1528\n",
            "Ivy       : 0.1447\n",
            "Frank     : 0.1076\n"
          ]
        }
      ]
    },
    {
      "cell_type": "markdown",
      "source": [
        "Interpretation: These scores highlight individuals who frequently act as bridges in the communication flow, underscoring their importance in connecting different parts of the network."
      ],
      "metadata": {
        "id": "ycv-FDrVmKM1"
      }
    },
    {
      "cell_type": "markdown",
      "source": [
        "#### Question 3"
      ],
      "metadata": {
        "id": "S3gvG4bBmOaa"
      }
    },
    {
      "cell_type": "code",
      "source": [
        "list(communities_10)[:5]"
      ],
      "metadata": {
        "colab": {
          "base_uri": "https://localhost:8080/"
        },
        "id": "8Y5VmJ4BmIpt",
        "outputId": "bf8b340e-cc90-40cb-8a97-346377798fa9"
      },
      "execution_count": null,
      "outputs": [
        {
          "output_type": "execute_result",
          "data": {
            "text/plain": [
              "[{'Alice', 'Bob', 'Charlie', 'Eve', 'Frank', 'Harry', 'Ivy', 'Jane', 'Robert'},\n",
              " {'George'}]"
            ]
          },
          "metadata": {},
          "execution_count": 51
        }
      ]
    },
    {
      "cell_type": "code",
      "source": [
        "# Detecting communities\n",
        "communities = next(girvan_newman(G_10))\n",
        "print(\"\\nIdentified Communities:\")\n",
        "for i, community in enumerate(communities, start=1):\n",
        "    print(f\"Community {i}: {', '.join(community)}\")"
      ],
      "metadata": {
        "colab": {
          "base_uri": "https://localhost:8080/"
        },
        "id": "q6TGjWD1lVgH",
        "outputId": "6ff73bba-1fbc-4919-dee1-70ec056f65ff"
      },
      "execution_count": null,
      "outputs": [
        {
          "output_type": "stream",
          "name": "stdout",
          "text": [
            "\n",
            "Identified Communities:\n",
            "Community 1: Harry, Bob, Robert, Jane, Charlie, Ivy, Frank, Eve, Alice\n",
            "Community 2: George\n"
          ]
        }
      ]
    },
    {
      "cell_type": "markdown",
      "source": [
        "Interpretation\n",
        "\n",
        "*   The first and larger group consists of Alice, Bob, Charlie, Eve, Frank, Harry, Ivy, Jane, and Robert. This suggests a densely connected network where most interactions occur, indicative of a main collaborative or functional group.\n",
        "*   The second, much smaller group, consists of a single individual, George. This isolation might indicate a specialized role or a lesser degree of integration into the main flow of communication within the network.\n",
        "\n",
        "\n",
        "\n",
        "    "
      ],
      "metadata": {
        "id": "00VK4xvIm8R0"
      }
    },
    {
      "cell_type": "markdown",
      "source": [
        "### What is the difference between influence & communication bottleneck?"
      ],
      "metadata": {
        "id": "F3pzZWpHoO7F"
      }
    },
    {
      "cell_type": "markdown",
      "source": [
        "**Influence**\n",
        "\n",
        "Influence typically relates to an individual’s or node's ability to affect others within the network. This can be through spreading information, ideas, or behaviors. Influence is often measured by metrics such as degree centrality, which reflects how connected an individual is within the network. Highly influential nodes have many direct connections, meaning they can directly interact with many others. Influence can also be observed through metrics like eigenvector centrality, which considers not just the number of connections but the quality of those connections (being connected to other highly connected nodes).\n",
        "\n",
        "**Communication Bottlenecks**\n",
        "\n",
        "Communication bottlenecks, on the other hand, refer to nodes through which a significant portion of the network’s information must pass to reach other parts of the network. This concept is closely related to betweenness centrality, a metric that identifies nodes that frequently act as bridges or mediators between different parts of the network. High betweenness centrality indicates that a node is crucial for information flow across the network, potentially controlling or influencing the spread of information between otherwise disconnected or distant groups.\n",
        "Key Differences\n",
        "\n",
        "**Role in Information Flow**\n",
        "\n",
        "While influential nodes are key to spreading information widely due to their many connections, bottlenecks are critical for their strategic position in the network, controlling the flow of information between different clusters or subnetworks.\n",
        "\n",
        "**Network Impact**\n",
        "\n",
        "Influence is about the capacity to reach and affect others directly or indirectly through one's connections. Bottlenecks highlight a node’s importance in connectivity and network cohesion, emphasizing the role in connecting disparate groups.\n",
        "\n",
        "**Centrality Measures**\n",
        "\n",
        "Different centrality measures are used to identify influential nodes (like degree centrality) and bottlenecks (like betweenness centrality), reflecting their different roles in the network.\n",
        "\n",
        "**Are They the Same?**\n",
        "\n",
        "While there can be overlap—highly influential nodes might also serve as communication bottlenecks due to their extensive connections—their primary functions and the ways they are identified within a network differ. A node can be a bottleneck without being the most influential if it uniquely connects separate communities, and a node can be influential by having many connections within a tightly-knit community without being a bottleneck."
      ],
      "metadata": {
        "id": "-EG6Iy-tocoR"
      }
    },
    {
      "cell_type": "markdown",
      "source": [
        "### Is sentiment analysis used in these analyses? We captured it in the sample data."
      ],
      "metadata": {
        "id": "mRU03qZlqC8p"
      }
    },
    {
      "cell_type": "markdown",
      "source": [
        "No, sentiment analysis is not included in what we have derived. It could be though with additional integration.\n",
        "\n",
        "Sentiment (positive, negative, neutral) of interactions can significantly impact team dynamics but is not directly analyzed with basic network metrics like centrality or community detection algorithms. We would typically need to examine the correlation between sentiment and the structure or strength of connections in the network.\n",
        "    \n",
        "Positive interactions might strengthen ties between individuals, encouraging more frequent and substantive communication. Negative interactions could weaken ties or lead to the formation of subgroups within the network, potentially impacting overall team cohesion.\n",
        "    \n",
        "High volumes of positive sentiment could lead to a more tightly knit network with robust collaboration, while prevalent negative sentiment might result in a fragmented network with isolated nodes or subgroups. Neutral interactions may have a stabilizing effect, maintaining existing network structures without significantly altering relational dynamics."
      ],
      "metadata": {
        "id": "AfQl2oWyqVao"
      }
    },
    {
      "cell_type": "code",
      "source": [],
      "metadata": {
        "id": "VIia3pO0oWWr"
      },
      "execution_count": null,
      "outputs": []
    }
  ]
}